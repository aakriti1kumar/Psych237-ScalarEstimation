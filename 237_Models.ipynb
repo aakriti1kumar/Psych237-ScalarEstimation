{
  "nbformat": 4,
  "nbformat_minor": 0,
  "metadata": {
    "colab": {
      "name": "237 - Model1.ipynb",
      "provenance": [],
      "collapsed_sections": [],
      "mount_file_id": "12miDyMPztsjAYNUE30qPb8TUsBL4-rsR",
      "authorship_tag": "ABX9TyMNijQvhU2106LTMIeRkZ2P",
      "include_colab_link": true
    },
    "kernelspec": {
      "display_name": "Python 3",
      "name": "python3"
    },
    "language_info": {
      "name": "python"
    }
  },
  "cells": [
    {
      "cell_type": "markdown",
      "metadata": {
        "id": "view-in-github",
        "colab_type": "text"
      },
      "source": [
        "<a href=\"https://colab.research.google.com/github/aakriti1kumar/Psych237-ScalarEstimation/blob/main/237_Models.ipynb\" target=\"_parent\"><img src=\"https://colab.research.google.com/assets/colab-badge.svg\" alt=\"Open In Colab\"/></a>"
      ]
    },
    {
      "cell_type": "code",
      "metadata": {
        "colab": {
          "base_uri": "https://localhost:8080/"
        },
        "id": "Ft5IG_L5Yume",
        "outputId": "05581d9d-1e1c-4507-bfdc-d2dcbb62fdce"
      },
      "source": [
        "!pip install pystan\n",
        "import pystan"
      ],
      "execution_count": null,
      "outputs": [
        {
          "output_type": "stream",
          "text": [
            "Requirement already satisfied: pystan in /usr/local/lib/python3.7/dist-packages (2.19.1.1)\n",
            "Requirement already satisfied: Cython!=0.25.1,>=0.22 in /usr/local/lib/python3.7/dist-packages (from pystan) (0.29.23)\n",
            "Requirement already satisfied: numpy>=1.7 in /usr/local/lib/python3.7/dist-packages (from pystan) (1.19.5)\n"
          ],
          "name": "stdout"
        }
      ]
    },
    {
      "cell_type": "code",
      "metadata": {
        "colab": {
          "base_uri": "https://localhost:8080/"
        },
        "id": "u8iozOD5dswk",
        "outputId": "a594fb20-2ae6-44f0-bacd-1c6e0749a43a"
      },
      "source": [
        "!pip install arviz\n",
        "import arviz as az"
      ],
      "execution_count": null,
      "outputs": [
        {
          "output_type": "stream",
          "text": [
            "Requirement already satisfied: arviz in /usr/local/lib/python3.7/dist-packages (0.11.2)\n",
            "Requirement already satisfied: pandas>=0.23 in /usr/local/lib/python3.7/dist-packages (from arviz) (1.1.5)\n",
            "Requirement already satisfied: setuptools>=38.4 in /usr/local/lib/python3.7/dist-packages (from arviz) (57.0.0)\n",
            "Requirement already satisfied: typing-extensions<4,>=3.7.4.3 in /usr/local/lib/python3.7/dist-packages (from arviz) (3.7.4.3)\n",
            "Requirement already satisfied: packaging in /usr/local/lib/python3.7/dist-packages (from arviz) (20.9)\n",
            "Requirement already satisfied: numpy>=1.12 in /usr/local/lib/python3.7/dist-packages (from arviz) (1.19.5)\n",
            "Requirement already satisfied: scipy>=0.19 in /usr/local/lib/python3.7/dist-packages (from arviz) (1.4.1)\n",
            "Requirement already satisfied: netcdf4 in /usr/local/lib/python3.7/dist-packages (from arviz) (1.5.6)\n",
            "Requirement already satisfied: xarray>=0.16.1 in /usr/local/lib/python3.7/dist-packages (from arviz) (0.18.2)\n",
            "Requirement already satisfied: matplotlib>=3.0 in /usr/local/lib/python3.7/dist-packages (from arviz) (3.2.2)\n",
            "Requirement already satisfied: pytz>=2017.2 in /usr/local/lib/python3.7/dist-packages (from pandas>=0.23->arviz) (2018.9)\n",
            "Requirement already satisfied: python-dateutil>=2.7.3 in /usr/local/lib/python3.7/dist-packages (from pandas>=0.23->arviz) (2.8.1)\n",
            "Requirement already satisfied: pyparsing>=2.0.2 in /usr/local/lib/python3.7/dist-packages (from packaging->arviz) (2.4.7)\n",
            "Requirement already satisfied: cftime in /usr/local/lib/python3.7/dist-packages (from netcdf4->arviz) (1.5.0)\n",
            "Requirement already satisfied: cycler>=0.10 in /usr/local/lib/python3.7/dist-packages (from matplotlib>=3.0->arviz) (0.10.0)\n",
            "Requirement already satisfied: kiwisolver>=1.0.1 in /usr/local/lib/python3.7/dist-packages (from matplotlib>=3.0->arviz) (1.3.1)\n",
            "Requirement already satisfied: six>=1.5 in /usr/local/lib/python3.7/dist-packages (from python-dateutil>=2.7.3->pandas>=0.23->arviz) (1.15.0)\n"
          ],
          "name": "stdout"
        }
      ]
    },
    {
      "cell_type": "code",
      "metadata": {
        "id": "ayTYtxCM_KKR"
      },
      "source": [
        "import numpy as np\n",
        "import math\n",
        "import pandas as pd\n",
        "import matplotlib.pyplot as plt\n",
        "import seaborn as sns\n",
        "from scipy.stats import beta, bernoulli\n",
        "import math\n",
        "from scipy.special import btdtri, logit, softmax\n",
        "\n"
      ],
      "execution_count": null,
      "outputs": []
    },
    {
      "cell_type": "code",
      "metadata": {
        "id": "kilx7O3zU2-s"
      },
      "source": [
        "df = pd.read_csv(\"/content/drive/MyDrive/crone_data.csv\")\n",
        "df = df[df['Experiment']=='crone1']\n",
        "I=int(len(df['UserID'].unique()))\n",
        "J = int(len(df['UserID'])/I)\n",
        "N = I*J\n",
        "y = df['Response']\n",
        "theta = df['Question']"
      ],
      "execution_count": null,
      "outputs": []
    },
    {
      "cell_type": "code",
      "metadata": {
        "colab": {
          "base_uri": "https://localhost:8080/"
        },
        "id": "_LJcIWLfrhmZ",
        "outputId": "cfc3c755-56f5-4371-da15-f5c94194ba84"
      },
      "source": [
        "#Outliers\n",
        "y[y>200]"
      ],
      "execution_count": null,
      "outputs": [
        {
          "output_type": "stream",
          "text": [
            "INFO:numexpr.utils:NumExpr defaulting to 2 threads.\n"
          ],
          "name": "stderr"
        },
        {
          "output_type": "execute_result",
          "data": {
            "text/plain": [
              "321     300\n",
              "399     201\n",
              "2654    356\n",
              "3511    250\n",
              "3512    260\n",
              "3531    580\n",
              "3533    250\n",
              "3692    320\n",
              "Name: Response, dtype: int64"
            ]
          },
          "metadata": {
            "tags": []
          },
          "execution_count": 5
        }
      ]
    },
    {
      "cell_type": "code",
      "metadata": {
        "colab": {
          "base_uri": "https://localhost:8080/",
          "height": 300
        },
        "id": "YA35sr9lRz6o",
        "outputId": "e24a7f98-380f-496f-ee17-fa233a322e2c"
      },
      "source": [
        "mean_response = []\n",
        "for i in [50,60,70,80,90,100]:\n",
        "  mean_response.append(y[theta==i].mean())\n",
        "\n",
        "plt.scatter(mean_response,[50,60,70,80,90,100])\n",
        "plt.xlabel(\"Mean\")\n",
        "plt.ylabel(\"Truth\")\n",
        "plt.xlim(30,110)\n",
        "plt.ylim(30,110)\n",
        "xpoints = ypoints = plt.xlim()\n",
        "plt.plot(xpoints, ypoints, linestyle='--', color='k', lw=2, scalex=False, scaley=False, alpha = .5)\n"
      ],
      "execution_count": null,
      "outputs": [
        {
          "output_type": "execute_result",
          "data": {
            "text/plain": [
              "[<matplotlib.lines.Line2D at 0x7f5b5dac7910>]"
            ]
          },
          "metadata": {
            "tags": []
          },
          "execution_count": 6
        },
        {
          "output_type": "display_data",
          "data": {
            "image/png": "[encoded data removed]",
            "text/plain": [
              "<Figure size 432x288 with 1 Axes>"
            ]
          },
          "metadata": {
            "tags": [],
            "needs_background": "light"
          }
        }
      ]
    },
    {
      "cell_type": "code",
      "metadata": {
        "colab": {
          "base_uri": "https://localhost:8080/",
          "height": 300
        },
        "id": "lcIptVBDSVcl",
        "outputId": "85e33a62-57bf-44ac-b8aa-07930d6b372e"
      },
      "source": [
        "median_response = []\n",
        "for i in [50,60,70,80,90,100]:\n",
        "  median_response.append(y[theta==i].median())\n",
        "\n",
        "plt.scatter(median_response,[50,60,70,80,90,100])\n",
        "plt.xlabel(\"Median\")\n",
        "plt.ylabel(\"Truth\")\n",
        "plt.xlim(30,120)\n",
        "plt.ylim(30,120)\n",
        "xpoints = ypoints = plt.xlim()\n",
        "plt.plot(xpoints, ypoints, linestyle='--', color='k', lw=2, scalex=False, scaley=False, alpha = .5)\n"
      ],
      "execution_count": null,
      "outputs": [
        {
          "output_type": "execute_result",
          "data": {
            "text/plain": [
              "[<matplotlib.lines.Line2D at 0x7f5b5d549350>]"
            ]
          },
          "metadata": {
            "tags": []
          },
          "execution_count": 7
        },
        {
          "output_type": "display_data",
          "data": {
            "image/png": "[encoded data removed]",
            "text/plain": [
              "<Figure size 432x288 with 1 Axes>"
            ]
          },
          "metadata": {
            "tags": [],
            "needs_background": "light"
          }
        }
      ]
    },
    {
      "cell_type": "code",
      "metadata": {
        "colab": {
          "base_uri": "https://localhost:8080/",
          "height": 282
        },
        "id": "aEBMS6FLgBG1",
        "outputId": "6c1b581c-76fd-4892-a7d8-2160f77d1e5c"
      },
      "source": [
        "#63 participants, 60 trials each\n",
        "#RMSE for each question\n",
        "y_matrix = np.asmatrix(y.values.reshape(I,J))\n",
        "theta_matrix = np.asmatrix(theta.values.reshape(I,J))\n",
        "RMSE = np.square(y.values.reshape(I,J) - theta.values.reshape(I,J)).mean(axis =0)\n",
        "RMSE = RMSE.tolist()\n",
        "plt.scatter(RMSE, np.linspace(1,60,60))"
      ],
      "execution_count": null,
      "outputs": [
        {
          "output_type": "execute_result",
          "data": {
            "text/plain": [
              "<matplotlib.collections.PathCollection at 0x7f5b5d4c45d0>"
            ]
          },
          "metadata": {
            "tags": []
          },
          "execution_count": 8
        },
        {
          "output_type": "display_data",
          "data": {
            "image/png": "[encoded data removed]",
            "text/plain": [
              "<Figure size 432x288 with 1 Axes>"
            ]
          },
          "metadata": {
            "tags": [],
            "needs_background": "light"
          }
        }
      ]
    },
    {
      "cell_type": "code",
      "metadata": {
        "colab": {
          "base_uri": "https://localhost:8080/",
          "height": 285
        },
        "id": "0hpW1cgHjt5a",
        "outputId": "a4c2954d-925a-47df-a332-c5a4886cb65b"
      },
      "source": [
        "WOC = np.square(y.values.reshape(I,J) - theta.values.reshape(I,J)).mean(axis =1)\n",
        "plt.scatter(np.linspace(1,63,63), WOC)"
      ],
      "execution_count": null,
      "outputs": [
        {
          "output_type": "execute_result",
          "data": {
            "text/plain": [
              "<matplotlib.collections.PathCollection at 0x7f5b5d4b14d0>"
            ]
          },
          "metadata": {
            "tags": []
          },
          "execution_count": 9
        },
        {
          "output_type": "display_data",
          "data": {
            "image/png": "[encoded data removed]",
            "text/plain": [
              "<Figure size 432x288 with 1 Axes>"
            ]
          },
          "metadata": {
            "tags": [],
            "needs_background": "light"
          }
        }
      ]
    },
    {
      "cell_type": "markdown",
      "metadata": {
        "id": "BBOCp6pU2zHF"
      },
      "source": [
        "Simple Model - Exchangeable participants"
      ]
    },
    {
      "cell_type": "code",
      "metadata": {
        "id": "yuDpiVwG_TqA"
      },
      "source": [
        "#No people, N questions\n",
        "\n",
        "model1 = \"\"\"\n",
        "data {\n",
        "  int<lower=0> N; //Number of questions\n",
        "  real y[N];\n",
        "}\n",
        "parameters{\n",
        "  real<lower=0> psi;\n",
        "  real<lower=0> mu;\n",
        "}\n",
        "model{\n",
        "  target += normal_lpdf(psi | 0, 1);       // prior log-density\n",
        "  target += normal_lpdf(mu | 0, 1); //\n",
        "  target += normal_lpdf(y | mu, psi); // log-likelihood\n",
        "}\n",
        "generated quantities {\n",
        "    vector[N] yhat;\n",
        "    for (n in 1:N) {\n",
        "        yhat[n] = normal_rng(mu, psi);\n",
        "    }\n",
        "}\n",
        "\"\"\""
      ],
      "execution_count": null,
      "outputs": []
    },
    {
      "cell_type": "code",
      "metadata": {
        "colab": {
          "base_uri": "https://localhost:8080/"
        },
        "id": "x5dYhi60U28Q",
        "outputId": "bf608e0c-a4c6-477e-8c80-832b05bc8474"
      },
      "source": [
        "data_model1  = {\"N\": N, \"y\":y}\n",
        "fit = pystan.stan(model_code=model1, data=data_model1, iter=1000, chains=4)\n"
      ],
      "execution_count": null,
      "outputs": [
        {
          "output_type": "stream",
          "text": [
            "WARNING:pystan:DeprecationWarning: pystan.stan was deprecated in version 2.17 and will be removed in version 3.0. Compile and use a Stan program in separate steps.\n",
            "INFO:pystan:COMPILING THE C++ CODE FOR MODEL anon_model_8a1afe65ccbed4fad3c931c2edd56aab NOW.\n",
            "WARNING:pystan:Maximum (flat) parameter count (1000) exceeded: skipping diagnostic tests for n_eff and Rhat.\n",
            "To run all diagnostics call pystan.check_hmc_diagnostics(fit)\n"
          ],
          "name": "stderr"
        }
      ]
    },
    {
      "cell_type": "code",
      "metadata": {
        "colab": {
          "base_uri": "https://localhost:8080/",
          "height": 350
        },
        "id": "oXT3kXVifmlr",
        "outputId": "951104ee-c0c0-43b4-da30-6da0877385fc"
      },
      "source": [
        "plt.hist(fit['mu'])\n",
        "# plt.hist(y)"
      ],
      "execution_count": null,
      "outputs": [
        {
          "output_type": "execute_result",
          "data": {
            "text/plain": [
              "(array([  7.,  44., 129., 294., 487., 549., 302., 142.,  41.,   5.]),\n",
              " array([48.96609468, 49.27143207, 49.57676946, 49.88210685, 50.18744423,\n",
              "        50.49278162, 50.79811901, 51.1034564 , 51.40879379, 51.71413117,\n",
              "        52.01946856]),\n",
              " <a list of 10 Patch objects>)"
            ]
          },
          "metadata": {
            "tags": []
          },
          "execution_count": 12
        },
        {
          "output_type": "display_data",
          "data": {
            "image/png": "[encoded data removed]",
            "text/plain": [
              "<Figure size 432x288 with 1 Axes>"
            ]
          },
          "metadata": {
            "tags": [],
            "needs_background": "light"
          }
        }
      ]
    },
    {
      "cell_type": "code",
      "metadata": {
        "colab": {
          "base_uri": "https://localhost:8080/",
          "height": 350
        },
        "id": "dn6f2oLfBo__",
        "outputId": "95a99a28-6030-40bc-87b9-8fc6dba5402c"
      },
      "source": [
        "plt.hist(fit['psi'])\n"
      ],
      "execution_count": null,
      "outputs": [
        {
          "output_type": "execute_result",
          "data": {
            "text/plain": [
              "(array([  7.,  23., 119., 266., 540., 548., 311., 147.,  29.,  10.]),\n",
              " array([26.31225151, 26.52449999, 26.73674847, 26.94899695, 27.16124543,\n",
              "        27.37349392, 27.5857424 , 27.79799088, 28.01023936, 28.22248784,\n",
              "        28.43473632]),\n",
              " <a list of 10 Patch objects>)"
            ]
          },
          "metadata": {
            "tags": []
          },
          "execution_count": 13
        },
        {
          "output_type": "display_data",
          "data": {
            "image/png": "[encoded data removed]",
            "text/plain": [
              "<Figure size 432x288 with 1 Axes>"
            ]
          },
          "metadata": {
            "tags": [],
            "needs_background": "light"
          }
        }
      ]
    },
    {
      "cell_type": "code",
      "metadata": {
        "colab": {
          "base_uri": "https://localhost:8080/",
          "height": 350
        },
        "id": "41ByzH8faCNX",
        "outputId": "a0b547af-e35f-4684-a1b7-1aee7dcfcad9"
      },
      "source": [
        "plt.hist(pd.Series(np.mean(fit['yhat'], axis = 0)))"
      ],
      "execution_count": null,
      "outputs": [
        {
          "output_type": "execute_result",
          "data": {
            "text/plain": [
              "(array([ 21.,  93., 350., 643., 937., 858., 589., 226.,  48.,  15.]),\n",
              " array([48.55024815, 48.95330331, 49.35635848, 49.75941365, 50.16246881,\n",
              "        50.56552398, 50.96857915, 51.37163431, 51.77468948, 52.17774465,\n",
              "        52.58079982]),\n",
              " <a list of 10 Patch objects>)"
            ]
          },
          "metadata": {
            "tags": []
          },
          "execution_count": 14
        },
        {
          "output_type": "display_data",
          "data": {
            "image/png": "[encoded data removed]",
            "text/plain": [
              "<Figure size 432x288 with 1 Axes>"
            ]
          },
          "metadata": {
            "tags": [],
            "needs_background": "light"
          }
        }
      ]
    },
    {
      "cell_type": "code",
      "metadata": {
        "colab": {
          "base_uri": "https://localhost:8080/",
          "height": 402
        },
        "id": "bZP5JXPXXMfw",
        "outputId": "96fcda98-a674-4824-f165-a59f3b773f09"
      },
      "source": [
        "model1_response = []\n",
        "x = pd.Series(fit['mu'].mean(axis=0))\n",
        "for i in [50,60,70,80,90,100]:\n",
        "  # print(theta[theta==i])\n",
        "  model1_response.append(x[theta==i].mean())\n",
        "  print(model1_response)\n",
        "\n",
        "plt.scatter(model1_response,[50,60,70,80,90,100])\n",
        "plt.xlabel(\"Model1\")\n",
        "plt.ylabel(\"Truth\")\n",
        "plt.xlim(40,110)\n",
        "plt.ylim(40,110)\n",
        "xpoints = ypoints = plt.xlim()\n",
        "plt.plot(xpoints, ypoints, linestyle='--', color='k', lw=2, scalex=False, scaley=False, alpha = .5)\n"
      ],
      "execution_count": null,
      "outputs": [
        {
          "output_type": "stream",
          "text": [
            "[50.501597469243066]\n",
            "[50.501597469243066, nan]\n",
            "[50.501597469243066, nan, nan]\n",
            "[50.501597469243066, nan, nan, nan]\n",
            "[50.501597469243066, nan, nan, nan, nan]\n",
            "[50.501597469243066, nan, nan, nan, nan, nan]\n"
          ],
          "name": "stdout"
        },
        {
          "output_type": "execute_result",
          "data": {
            "text/plain": [
              "[<matplotlib.lines.Line2D at 0x7f5b59da5b50>]"
            ]
          },
          "metadata": {
            "tags": []
          },
          "execution_count": 15
        },
        {
          "output_type": "display_data",
          "data": {
            "image/png": "[encoded data removed]",
            "text/plain": [
              "<Figure size 432x288 with 1 Axes>"
            ]
          },
          "metadata": {
            "tags": [],
            "needs_background": "light"
          }
        }
      ]
    },
    {
      "cell_type": "code",
      "metadata": {
        "id": "eTU6yjY60bBL"
      },
      "source": [
        "\n",
        "model2 = \"\"\"\n",
        "data {\n",
        "  int<lower=0> I; //Number of people\n",
        "  int<lower=0> J; //Number of questions\n",
        "  matrix<lower=0>[I,J] y;\n",
        "}\n",
        "parameters{\n",
        "  vector<lower=0>[I] psi;\n",
        "  vector<lower=0>[I] mu;\n",
        "}\n",
        "model{\n",
        "  psi ~ cauchy(0, 1);\n",
        "  mu ~ normal(75, 10);\n",
        "  for(i in 1:I)\n",
        "    for(j in I:J)\n",
        "      y[i,j] ~ normal(mu[i], psi[i]);\n",
        "}\n",
        "\"\"\"\n",
        "\n",
        "\n",
        "# target += normal_lpdf(psi | 0, 1);       // prior log-density\n",
        "# target += normal_lpdf(lambda | 0, 1);       // prior log-density\n",
        "# target += normal_lpdf(delta | 0, 1);       // prior log-density\n",
        "# target += normal_lpdf(y | mu, psi); // log-likelihood\n"
      ],
      "execution_count": null,
      "outputs": []
    },
    {
      "cell_type": "code",
      "metadata": {
        "colab": {
          "base_uri": "https://localhost:8080/"
        },
        "id": "8DkrjeVs0Thh",
        "outputId": "4dd40e79-57dd-44c5-f0f6-3682cdfafc64"
      },
      "source": [
        "data_model2  = {\"I\":I, \"J\":J, \"y\":y_matrix}\n",
        "fit2 = pystan.stan(model_code=model2, data=data_model2, iter=1000, chains=4)\n"
      ],
      "execution_count": null,
      "outputs": [
        {
          "output_type": "stream",
          "text": [
            "WARNING:pystan:DeprecationWarning: pystan.stan was deprecated in version 2.17 and will be removed in version 3.0. Compile and use a Stan program in separate steps.\n",
            "INFO:pystan:COMPILING THE C++ CODE FOR MODEL anon_model_616303fced430109b28e79c325d849b9 NOW.\n"
          ],
          "name": "stderr"
        }
      ]
    },
    {
      "cell_type": "code",
      "metadata": {
        "colab": {
          "base_uri": "https://localhost:8080/",
          "height": 350
        },
        "id": "qFguZXRujMHy",
        "outputId": "5dcea759-2d31-4aad-c137-8df99ef95a5e"
      },
      "source": [
        "plt.hist(pd.Series(fit2['mu'].mean(axis=0)))"
      ],
      "execution_count": null,
      "outputs": [
        {
          "output_type": "execute_result",
          "data": {
            "text/plain": [
              "(array([ 3.,  7.,  8.,  7., 10.,  9., 10.,  4.,  4.,  1.]),\n",
              " array([74.66798746, 74.73781511, 74.80764275, 74.8774704 , 74.94729805,\n",
              "        75.0171257 , 75.08695335, 75.156781  , 75.22660864, 75.29643629,\n",
              "        75.36626394]),\n",
              " <a list of 10 Patch objects>)"
            ]
          },
          "metadata": {
            "tags": []
          },
          "execution_count": 18
        },
        {
          "output_type": "display_data",
          "data": {
            "image/png": "[encoded data removed]",
            "text/plain": [
              "<Figure size 432x288 with 1 Axes>"
            ]
          },
          "metadata": {
            "tags": [],
            "needs_background": "light"
          }
        }
      ]
    },
    {
      "cell_type": "code",
      "metadata": {
        "colab": {
          "base_uri": "https://localhost:8080/",
          "height": 300
        },
        "id": "vsrisx-oYZmq",
        "outputId": "ec098e74-fd98-4605-bb7d-0efdb898a878"
      },
      "source": [
        "model2_response = []\n",
        "x = pd.Series(fit2['mu'].mean(axis=0))\n",
        "for i in [50,60,70,80,90,100]:\n",
        "  # print(theta[theta==i])\n",
        "  model2_response.append(x[theta==i].mean())\n",
        "  # print(model2_response)\n",
        "\n",
        "plt.scatter(model2_response,[50,60,70,80,90,100])\n",
        "plt.xlabel(\"Model1\")\n",
        "plt.ylabel(\"Truth\")\n",
        "plt.xlim(40,110)\n",
        "plt.ylim(40,110)\n",
        "xpoints = ypoints = plt.xlim()\n",
        "plt.plot(xpoints, ypoints, linestyle='--', color='k', lw=2, scalex=False, scaley=False, alpha = .5)\n"
      ],
      "execution_count": null,
      "outputs": [
        {
          "output_type": "execute_result",
          "data": {
            "text/plain": [
              "[<matplotlib.lines.Line2D at 0x7f5b59508050>]"
            ]
          },
          "metadata": {
            "tags": []
          },
          "execution_count": 19
        },
        {
          "output_type": "display_data",
          "data": {
            "image/png": "[encoded data removed]",
            "text/plain": [
              "<Figure size 432x288 with 1 Axes>"
            ]
          },
          "metadata": {
            "tags": [],
            "needs_background": "light"
          }
        }
      ]
    },
    {
      "cell_type": "code",
      "metadata": {
        "id": "ECeXzEAq0TYV"
      },
      "source": [
        "#I people, J questions\n",
        "\n",
        "model3_code = \"\"\"\n",
        "data {\n",
        "  int<lower=0> I; //Number of people\n",
        "  int<lower=0> J; //Number of questions\n",
        "  matrix<lower=0>[I,J] y; //response of person i on question j\n",
        "}\n",
        "parameters{\n",
        "  vector<lower=0>[I] psi; \n",
        "  vector<lower=0>[I] lambda;\n",
        "  real<lower=0> theta[J];\n",
        "}\n",
        "transformed parameters{\n",
        "  matrix<lower=0>[I,J] mu;\n",
        "  for(i in 1:I)\n",
        "    for(j in 1:J)\n",
        "      mu[i,j] = lambda[i]*theta[j];\n",
        "}\n",
        "model{\n",
        "  psi ~ cauchy(0,1);\n",
        "  lambda ~ normal(1, .2);\n",
        "  theta ~ normal(75,10);\n",
        "  for(i in 1:I)\n",
        "    for(j in I:J){\n",
        "      y[i,j] ~ normal(mu[i,j], psi[i]);\n",
        "      }\n",
        "}\n",
        "\"\"\""
      ],
      "execution_count": null,
      "outputs": []
    },
    {
      "cell_type": "code",
      "metadata": {
        "id": "zsDLh_7pU2y-"
      },
      "source": [
        "data_model3  = {\"I\":I, \"J\": J, \"y\": y_matrix}"
      ],
      "execution_count": null,
      "outputs": []
    },
    {
      "cell_type": "code",
      "metadata": {
        "colab": {
          "base_uri": "https://localhost:8080/"
        },
        "id": "Idi2L0CWFGoV",
        "outputId": "9ba3ef3a-1c49-403b-a3b3-2101352c69d1"
      },
      "source": [
        "model3 = pystan.StanModel(model_code=model3_code)"
      ],
      "execution_count": null,
      "outputs": [
        {
          "output_type": "stream",
          "text": [
            "INFO:pystan:COMPILING THE C++ CODE FOR MODEL anon_model_715d0c5d8bf238823064d82f345b632f NOW.\n"
          ],
          "name": "stderr"
        }
      ]
    },
    {
      "cell_type": "code",
      "metadata": {
        "colab": {
          "base_uri": "https://localhost:8080/"
        },
        "id": "luzjCrilbesF",
        "outputId": "49c2e623-9272-4fc9-aedb-07cfa193d616"
      },
      "source": [
        "fit_model3 = model3.sampling(data=data_model3, chains=4, seed=1111)"
      ],
      "execution_count": null,
      "outputs": [
        {
          "output_type": "stream",
          "text": [
            "WARNING:pystan:Maximum (flat) parameter count (1000) exceeded: skipping diagnostic tests for n_eff and Rhat.\n",
            "To run all diagnostics call pystan.check_hmc_diagnostics(fit)\n"
          ],
          "name": "stderr"
        }
      ]
    },
    {
      "cell_type": "code",
      "metadata": {
        "colab": {
          "base_uri": "https://localhost:8080/"
        },
        "id": "2KNMkUKDz51D",
        "outputId": "292ef476-ba35-46a9-e87d-7655136002dc"
      },
      "source": [
        "# theta_matrix.mean(0)\n",
        "theta_matrix.mean(0)"
      ],
      "execution_count": null,
      "outputs": [
        {
          "output_type": "execute_result",
          "data": {
            "text/plain": [
              "matrix([[70.47619048, 73.33333333, 72.6984127 , 75.23809524, 77.93650794,\n",
              "         77.14285714, 75.07936508, 73.96825397, 75.87301587, 73.33333333,\n",
              "         74.6031746 , 77.3015873 , 77.77777778, 71.74603175, 77.46031746,\n",
              "         76.03174603, 74.28571429, 74.44444444, 71.74603175, 74.6031746 ,\n",
              "         71.11111111, 76.03174603, 75.55555556, 71.9047619 , 76.66666667,\n",
              "         75.87301587, 74.92063492, 70.        , 72.85714286, 74.6031746 ,\n",
              "         76.98412698, 77.93650794, 73.49206349, 78.0952381 , 75.87301587,\n",
              "         73.49206349, 73.49206349, 78.57142857, 75.23809524, 78.0952381 ,\n",
              "         75.87301587, 74.92063492, 76.03174603, 77.61904762, 75.55555556,\n",
              "         72.6984127 , 76.66666667, 73.96825397, 75.55555556, 74.28571429,\n",
              "         76.82539683, 76.19047619, 74.44444444, 74.28571429, 74.6031746 ,\n",
              "         71.9047619 , 79.68253968, 74.92063492, 71.42857143, 76.66666667]])"
            ]
          },
          "metadata": {
            "tags": []
          },
          "execution_count": 24
        }
      ]
    },
    {
      "cell_type": "code",
      "metadata": {
        "colab": {
          "base_uri": "https://localhost:8080/",
          "height": 282
        },
        "id": "AhEAd4a8Xorl",
        "outputId": "f1b8fe2d-f733-43bd-c1d1-4711cf7abf82"
      },
      "source": [
        "# plt.hist((fit_model3['theta'].mean(axis=0)))#.reshape(63*60,))\n",
        "plt.plot(fit_model3['psi'].mean(axis=0))"
      ],
      "execution_count": null,
      "outputs": [
        {
          "output_type": "execute_result",
          "data": {
            "text/plain": [
              "[<matplotlib.lines.Line2D at 0x7f5b58d72850>]"
            ]
          },
          "metadata": {
            "tags": []
          },
          "execution_count": 25
        },
        {
          "output_type": "display_data",
          "data": {
            "image/png": "[encoded data removed]",
            "text/plain": [
              "<Figure size 432x288 with 1 Axes>"
            ]
          },
          "metadata": {
            "tags": [],
            "needs_background": "light"
          }
        }
      ]
    },
    {
      "cell_type": "code",
      "metadata": {
        "colab": {
          "base_uri": "https://localhost:8080/",
          "height": 300
        },
        "id": "pAZJwQH422Tc",
        "outputId": "b22f9edb-a5d2-4bda-8792-2442fc5011c1"
      },
      "source": [
        "model3_response = []\n",
        "x = (fit_model3['mu'].mean(axis=0)).reshape(60*63,)\n",
        "for i in [50,60,70,80,90,100]:\n",
        "  # print(theta[theta==i])\n",
        "  model3_response.append(x[theta==i].mean())\n",
        "  # print(model3_response)\n",
        "\n",
        "plt.scatter(model3_response,[50,60,70,80,90,100])\n",
        "plt.xlabel(\"Model2\")\n",
        "plt.ylabel(\"Truth\")\n",
        "plt.xlim(40,110)\n",
        "plt.ylim(40,110)\n",
        "xpoints = ypoints = plt.xlim()\n",
        "plt.plot(xpoints, ypoints, linestyle='--', color='k', lw=2, scalex=False, scaley=False, alpha = .5)\n"
      ],
      "execution_count": null,
      "outputs": [
        {
          "output_type": "execute_result",
          "data": {
            "text/plain": [
              "[<matplotlib.lines.Line2D at 0x7f5b587a95d0>]"
            ]
          },
          "metadata": {
            "tags": []
          },
          "execution_count": 26
        },
        {
          "output_type": "display_data",
          "data": {
            "image/png": "[encoded data removed]",
            "text/plain": [
              "<Figure size 432x288 with 1 Axes>"
            ]
          },
          "metadata": {
            "tags": [],
            "needs_background": "light"
          }
        }
      ]
    },
    {
      "cell_type": "code",
      "metadata": {
        "id": "3-bNKncBdgka"
      },
      "source": [
        "# fit_model3\n",
        "# az.plot_forest(az.from_pystan(fit_model3), var_names=['lambda'])\n",
        "# az.from_pystan(fit_model3)"
      ],
      "execution_count": null,
      "outputs": []
    },
    {
      "cell_type": "code",
      "metadata": {
        "colab": {
          "base_uri": "https://localhost:8080/"
        },
        "id": "OxENOUSeXIpZ",
        "outputId": "5066388e-be98-4188-fe34-735c37699691"
      },
      "source": [
        "row1 = list(theta[:60])\n",
        "{x:row1.count(x) for x in row1}\n"
      ],
      "execution_count": null,
      "outputs": [
        {
          "output_type": "execute_result",
          "data": {
            "text/plain": [
              "{50: 10, 60: 10, 70: 10, 80: 10, 90: 10, 100: 10}"
            ]
          },
          "metadata": {
            "tags": []
          },
          "execution_count": 28
        }
      ]
    },
    {
      "cell_type": "code",
      "metadata": {
        "id": "-K8WEujqr6S2"
      },
      "source": [
        "#I people, J questions\n",
        "\n",
        "model4_code = \"\"\"\n",
        "data {\n",
        "  int<lower=0> I; //Number of people\n",
        "  int<lower=0> J; //Number of questions\n",
        "  matrix<lower=0>[I,J] y; //response of person i on question j\n",
        "}\n",
        "parameters{\n",
        "  vector<lower=0>[I] psi; \n",
        "  vector<lower=0>[I] lambda;\n",
        "  real<lower=0> delta[I];\n",
        "  real<lower=0> theta[J];\n",
        "}\n",
        "transformed parameters{\n",
        "  matrix<lower=0>[I,J] mu;\n",
        "  for(i in 1:I)\n",
        "    for(j in 1:J)\n",
        "      mu[i,j] = lambda[i]*theta[j] + delta[i];\n",
        "}\n",
        "model{\n",
        "  psi ~ gamma(2,2);\n",
        "  lambda ~ gamma(1, 1);\n",
        "  theta ~ normal(75,10);\n",
        "  delta ~ normal(0,3);\n",
        "  for(i in 1:I)\n",
        "    for(j in I:J){\n",
        "      y[i,j] ~ normal(mu[i,j], psi[i]);\n",
        "      }\n",
        "}\n",
        "\"\"\"\n",
        "\n",
        "\n",
        "# target += normal_lpdf(psi | 0, 1);       // prior log-density\n",
        "# target += normal_lpdf(lambda | 0, 1);       // prior log-density\n",
        "# target += normal_lpdf(delta | 0, 1);       // prior log-density\n",
        "# target += normal_lpdf(y | mu, psi); // log-likelihood"
      ],
      "execution_count": null,
      "outputs": []
    },
    {
      "cell_type": "code",
      "metadata": {
        "colab": {
          "base_uri": "https://localhost:8080/"
        },
        "id": "kuNikfG_sSOJ",
        "outputId": "13875f51-cf1a-4e86-c397-d140a0e85926"
      },
      "source": [
        "# y = np.random.normal(10 + 1.1*df['Question'], 5)\n",
        "# y_sim_matrix = np.asmatrix(y.reshape(I,J)).astype(int)\n",
        "\n",
        "#Try to recover simulated parameters, psi = 5, delta = 10, lambda = 1.1\n",
        "#Recovers!\n",
        "\n",
        "data_model4  = {\"I\":I, \"J\":J, \"y\":y_matrix}\n",
        "model4 = pystan.StanModel(model_code=model4_code)\n",
        "fit_model4 = model4.sampling(data=data_model4, chains=4, seed=111)"
      ],
      "execution_count": null,
      "outputs": [
        {
          "output_type": "stream",
          "text": [
            "INFO:pystan:COMPILING THE C++ CODE FOR MODEL anon_model_9280538468666f11a5806de8abdd6475 NOW.\n",
            "WARNING:pystan:Maximum (flat) parameter count (1000) exceeded: skipping diagnostic tests for n_eff and Rhat.\n",
            "To run all diagnostics call pystan.check_hmc_diagnostics(fit)\n"
          ],
          "name": "stderr"
        }
      ]
    },
    {
      "cell_type": "code",
      "metadata": {
        "colab": {
          "base_uri": "https://localhost:8080/",
          "height": 350
        },
        "id": "4EPe2Z0koRcr",
        "outputId": "85771623-e2c9-43d2-f4cf-3c35a265a7cf"
      },
      "source": [
        "plt.hist((fit_model4['mu'].mean(axis=0)).reshape(60*63,))"
      ],
      "execution_count": null,
      "outputs": [
        {
          "output_type": "execute_result",
          "data": {
            "text/plain": [
              "(array([  9., 187., 408., 462., 718., 975., 602., 297.,  96.,  26.]),\n",
              " array([75.13139025, 75.6249794 , 76.11856855, 76.6121577 , 77.10574684,\n",
              "        77.59933599, 78.09292514, 78.58651429, 79.08010344, 79.57369259,\n",
              "        80.06728174]),\n",
              " <a list of 10 Patch objects>)"
            ]
          },
          "metadata": {
            "tags": []
          },
          "execution_count": 31
        },
        {
          "output_type": "display_data",
          "data": {
            "image/png": "[encoded data removed]",
            "text/plain": [
              "<Figure size 432x288 with 1 Axes>"
            ]
          },
          "metadata": {
            "tags": [],
            "needs_background": "light"
          }
        }
      ]
    },
    {
      "cell_type": "code",
      "metadata": {
        "colab": {
          "base_uri": "https://localhost:8080/",
          "height": 300
        },
        "id": "xZaBOhWeieFf",
        "outputId": "526b8e51-1d9b-4531-e2d4-1efa60fc8bcf"
      },
      "source": [
        "model4_response = []\n",
        "x = (fit_model4['mu'].mean(axis=0)).reshape(60*63,)\n",
        "for i in [50,60,70,80,90,100]:\n",
        "  # print(theta[theta==i])\n",
        "  model4_response.append(x[theta==i].mean())\n",
        "  # print(model3_response)\n",
        "\n",
        "plt.scatter(model4_response,[50,60,70,80,90,100])\n",
        "plt.xlabel(\"Model1\")\n",
        "plt.ylabel(\"Truth\")\n",
        "plt.xlim(40,110)\n",
        "plt.ylim(40,110)\n",
        "xpoints = ypoints = plt.xlim()\n",
        "plt.plot(xpoints, ypoints, linestyle='--', color='k', lw=2, scalex=False, scaley=False, alpha = .5)\n"
      ],
      "execution_count": null,
      "outputs": [
        {
          "output_type": "execute_result",
          "data": {
            "text/plain": [
              "[<matplotlib.lines.Line2D at 0x7f5b59642d90>]"
            ]
          },
          "metadata": {
            "tags": []
          },
          "execution_count": 32
        },
        {
          "output_type": "display_data",
          "data": {
            "image/png": "[encoded data removed]",
            "text/plain": [
              "<Figure size 432x288 with 1 Axes>"
            ]
          },
          "metadata": {
            "tags": [],
            "needs_background": "light"
          }
        }
      ]
    },
    {
      "cell_type": "code",
      "metadata": {
        "id": "9IQh66I0i9rB"
      },
      "source": [
        "#I people, J questions\n",
        "\n",
        "model5_code = \"\"\"\n",
        "data {\n",
        "  int<lower=0> I; //Number of people\n",
        "  int<lower=0> J; //Number of questions\n",
        "  matrix<lower=0>[I,J] y; //response of person i on question j\n",
        "}\n",
        "parameters{\n",
        "  real<lower=0> psisq; \n",
        "  vector<lower=0>[I] lambda;\n",
        "  real<lower=0> theta;\n",
        "}\n",
        "transformed parameters{\n",
        "  real<lower=0> psi;\n",
        "  vector<lower=0>[I] mu;\n",
        "  for(i in 1:I)\n",
        "    mu[i] = lambda[i]*theta;\n",
        "    //k*log(theta)\n",
        "  psi = sqrt(psisq);\n",
        "}\n",
        "model{\n",
        "  psisq ~ inv_gamma(1,1);\n",
        "  lambda ~ normal(1, .2);\n",
        "  theta ~ normal(75,30);\n",
        "  for(i in 1:I)\n",
        "    y[i] ~ normal(mu[i], psi);\n",
        "}\n",
        "\"\"\"\n",
        "\n",
        "\n",
        "# target += normal_lpdf(psi | 0, 1);       // prior log-density\n",
        "# target += normal_lpdf(lambda | 0, 1);       // prior log-density\n",
        "# target += normal_lpdf(delta | 0, 1);       // prior log-density\n",
        "# target += normal_lpdf(y | mu, psi); // log-likelihood"
      ],
      "execution_count": null,
      "outputs": []
    },
    {
      "cell_type": "code",
      "metadata": {
        "colab": {
          "base_uri": "https://localhost:8080/"
        },
        "id": "7SgDAPVLp8KF",
        "outputId": "8701b166-004f-41aa-c152-2e4b2f7d37c3"
      },
      "source": [
        "model5_theta = []\n",
        "for i in [50,60,70,80,90,100]:\n",
        "  stim = y[theta==i].values.reshape(I,10)\n",
        "  data_model5  = {\"I\":I, \"J\":10, \"y\":stim}\n",
        "  model5 = pystan.StanModel(model_code=model5_code)\n",
        "  fit_model5 = model5.sampling(data=data_model5, chains=4, seed=111)\n",
        "  model5_theta.append(fit_model5['theta'].mean())"
      ],
      "execution_count": null,
      "outputs": [
        {
          "output_type": "stream",
          "text": [
            "INFO:pystan:COMPILING THE C++ CODE FOR MODEL anon_model_fdb9d3796158169ee87bed8a9bcd377b NOW.\n",
            "INFO:pystan:COMPILING THE C++ CODE FOR MODEL anon_model_fdb9d3796158169ee87bed8a9bcd377b NOW.\n",
            "INFO:pystan:COMPILING THE C++ CODE FOR MODEL anon_model_fdb9d3796158169ee87bed8a9bcd377b NOW.\n",
            "INFO:pystan:COMPILING THE C++ CODE FOR MODEL anon_model_fdb9d3796158169ee87bed8a9bcd377b NOW.\n",
            "INFO:pystan:COMPILING THE C++ CODE FOR MODEL anon_model_fdb9d3796158169ee87bed8a9bcd377b NOW.\n",
            "INFO:pystan:COMPILING THE C++ CODE FOR MODEL anon_model_fdb9d3796158169ee87bed8a9bcd377b NOW.\n"
          ],
          "name": "stderr"
        }
      ]
    },
    {
      "cell_type": "code",
      "metadata": {
        "colab": {
          "base_uri": "https://localhost:8080/",
          "height": 301
        },
        "id": "pdOHZ5Pgquzk",
        "outputId": "046565f1-4799-4ccf-e3be-a7b5a626ca91"
      },
      "source": [
        "plt.scatter(model5_theta,[50,60,70,80,90,100])\n",
        "plt.xlabel(\"Model_5\")\n",
        "plt.ylabel(\"Truth\")\n",
        "plt.xlim(40,110)\n",
        "plt.ylim(40,110)\n",
        "xpoints = ypoints = plt.xlim()\n",
        "plt.plot(xpoints, ypoints, linestyle='--', color='k', lw=2, scalex=False, scaley=False, alpha = .5)\n"
      ],
      "execution_count": null,
      "outputs": [
        {
          "output_type": "execute_result",
          "data": {
            "text/plain": [
              "[<matplotlib.lines.Line2D at 0x7f5b596fa850>]"
            ]
          },
          "metadata": {
            "tags": []
          },
          "execution_count": 35
        },
        {
          "output_type": "display_data",
          "data": {
            "image/png": "[encoded data removed]",
            "text/plain": [
              "<Figure size 432x288 with 1 Axes>"
            ]
          },
          "metadata": {
            "tags": [],
            "needs_background": "light"
          }
        }
      ]
    },
    {
      "cell_type": "code",
      "metadata": {
        "id": "WOgf7CceK3g3"
      },
      "source": [
        "#I people, J questions\n",
        "\n",
        "model8_code = \"\"\"\n",
        "data {\n",
        "  int<lower=0> I; //Number of people\n",
        "  int<lower=0> J; //Number of questions\n",
        "  matrix<lower=0>[I,J] y; //response of person i on question j\n",
        "}\n",
        "parameters{\n",
        "  real<lower=0> psisq; \n",
        "  vector<lower=0>[I] lambda; \n",
        "  real<lower=0> theta;\n",
        "}\n",
        "transformed parameters{\n",
        "  real<lower=0> psi;\n",
        "  vector<lower=0>[I] mu;\n",
        "  for(i in 1:I)\n",
        "    mu[i] = lambda[i]*log(theta);\n",
        "  psi = sqrt(psisq);\n",
        "}\n",
        "model{\n",
        "  psisq ~ inv_gamma(1,1);\n",
        "  lambda ~ normal(10, 5);\n",
        "  theta ~ normal(75,30);\n",
        "  for(i in 1:I)\n",
        "    y[i] ~ normal(mu[i], psi);\n",
        "}\n",
        "\"\"\"\n",
        "\n",
        "\n",
        "# target += normal_lpdf(psi | 0, 1);       // prior log-density\n",
        "# target += normal_lpdf(lambda | 0, 1);       // prior log-density\n",
        "# target += normal_lpdf(delta | 0, 1);       // prior log-density\n",
        "# target += normal_lpdf(y | mu, psi); // log-likelihood "
      ],
      "execution_count": null,
      "outputs": []
    },
    {
      "cell_type": "code",
      "metadata": {
        "colab": {
          "base_uri": "https://localhost:8080/"
        },
        "id": "5Ia5GRfPLCYz",
        "outputId": "8bf19aab-d152-4af9-c593-62a0a84d410c"
      },
      "source": [
        "model8_theta = []\n",
        "for i in [50,60,70,80,90,100]:\n",
        "  stim = y[theta==i].values.reshape(I,10)\n",
        "  data_model8  = {\"I\":I, \"J\":10, \"y\":stim}\n",
        "  model8 = pystan.StanModel(model_code=model8_code)\n",
        "  fit_model8 = model8.sampling(data=data_model8, chains=4, seed=111)\n",
        "  model8_theta.append(fit_model8['theta'].mean())\n",
        "  print(fit_model8['lambda'].mean())\n",
        "  print(fit_model8['theta'].mean())\n",
        "  print(fit_model8['psi'].mean())\n",
        "  print(fit_model8['mu'].mean())\n",
        "\n"
      ],
      "execution_count": null,
      "outputs": [
        {
          "output_type": "stream",
          "text": [
            "INFO:pystan:COMPILING THE C++ CODE FOR MODEL anon_model_f2ceb3a2387fe437e981fcc27e57adef NOW.\n",
            "INFO:pystan:COMPILING THE C++ CODE FOR MODEL anon_model_f2ceb3a2387fe437e981fcc27e57adef NOW.\n"
          ],
          "name": "stderr"
        },
        {
          "output_type": "stream",
          "text": [
            "10.914341953499804\n",
            "50.601485965334724\n",
            "19.995657161664546\n",
            "42.48489746477267\n"
          ],
          "name": "stdout"
        },
        {
          "output_type": "stream",
          "text": [
            "INFO:pystan:COMPILING THE C++ CODE FOR MODEL anon_model_f2ceb3a2387fe437e981fcc27e57adef NOW.\n"
          ],
          "name": "stderr"
        },
        {
          "output_type": "stream",
          "text": [
            "11.151080622527362\n",
            "92.03058323814574\n",
            "22.894644104196576\n",
            "50.17961152982393\n"
          ],
          "name": "stdout"
        },
        {
          "output_type": "stream",
          "text": [
            "INFO:pystan:COMPILING THE C++ CODE FOR MODEL anon_model_f2ceb3a2387fe437e981fcc27e57adef NOW.\n"
          ],
          "name": "stderr"
        },
        {
          "output_type": "stream",
          "text": [
            "11.850432153164714\n",
            "118.00071426698534\n",
            "16.035326529045076\n",
            "56.336280123778955\n"
          ],
          "name": "stdout"
        },
        {
          "output_type": "stream",
          "text": [
            "INFO:pystan:COMPILING THE C++ CODE FOR MODEL anon_model_f2ceb3a2387fe437e981fcc27e57adef NOW.\n"
          ],
          "name": "stderr"
        },
        {
          "output_type": "stream",
          "text": [
            "12.706231904667398\n",
            "150.75230086505434\n",
            "14.556131217059747\n",
            "63.587461155197694\n"
          ],
          "name": "stdout"
        },
        {
          "output_type": "stream",
          "text": [
            "INFO:pystan:COMPILING THE C++ CODE FOR MODEL anon_model_f2ceb3a2387fe437e981fcc27e57adef NOW.\n"
          ],
          "name": "stderr"
        },
        {
          "output_type": "stream",
          "text": [
            "13.486924096836457\n",
            "175.5444780850134\n",
            "16.71362826330685\n",
            "69.58803232117299\n",
            "14.55301380522306\n",
            "207.95248566361536\n",
            "16.906535908335375\n",
            "77.5880888648108\n"
          ],
          "name": "stdout"
        }
      ]
    },
    {
      "cell_type": "code",
      "metadata": {
        "colab": {
          "base_uri": "https://localhost:8080/",
          "height": 301
        },
        "id": "X1fzzjJyLCSg",
        "outputId": "1bac7cdf-99fb-4f6f-9ace-4bf952286cac"
      },
      "source": [
        "plt.scatter(model8_theta,[50,60,70,80,90,100])\n",
        "plt.xlabel(\"Model_8\")\n",
        "plt.ylabel(\"Truth\")\n",
        "plt.xlim(40,210)\n",
        "plt.ylim(40,110)\n",
        "xpoints = ypoints = plt.xlim()\n",
        "plt.plot(xpoints, ypoints, linestyle='--', color='k', lw=2, scalex=False, scaley=False, alpha = .5)\n"
      ],
      "execution_count": null,
      "outputs": [
        {
          "output_type": "execute_result",
          "data": {
            "text/plain": [
              "[<matplotlib.lines.Line2D at 0x7f5b54234e90>]"
            ]
          },
          "metadata": {
            "tags": []
          },
          "execution_count": 38
        },
        {
          "output_type": "display_data",
          "data": {
            "image/png": "[encoded data removed]",
            "text/plain": [
              "<Figure size 432x288 with 1 Axes>"
            ]
          },
          "metadata": {
            "tags": [],
            "needs_background": "light"
          }
        }
      ]
    },
    {
      "cell_type": "code",
      "metadata": {
        "id": "_fCO0Ik-Yy_I"
      },
      "source": [
        "#I people, J questions\n",
        "\n",
        "model9_code = \"\"\"\n",
        "data {\n",
        "  int N;\n",
        "  vector<lower=0>[N] y; //response of person i on question j\n",
        "}\n",
        "parameters{\n",
        "  real<lower=0> psisq; \n",
        "  real<lower=0> lambda; \n",
        "  real<lower=0> theta;\n",
        "}\n",
        "transformed parameters{\n",
        "  real<lower=0> psi;\n",
        "  real<lower=0> mu;\n",
        "  mu = lambda*log(theta);\n",
        "  psi = sqrt(psisq);\n",
        "}\n",
        "model{\n",
        "  psisq ~ inv_gamma(1,1);\n",
        "  lambda ~ normal(10, 5);\n",
        "  theta ~ normal(75,30);\n",
        "  y ~ normal(mu, psi);\n",
        "}\n",
        "\"\"\"\n",
        "\n",
        "\n",
        "# target += normal_lpdf(psi | 0, 1);       // prior log-density\n",
        "# target += normal_lpdf(lambda | 0, 1);       // prior log-density\n",
        "# target += normal_lpdf(delta | 0, 1);       // prior log-density\n",
        "# target += normal_lpdf(y | mu, psi); // log-likelihood "
      ],
      "execution_count": null,
      "outputs": []
    },
    {
      "cell_type": "code",
      "metadata": {
        "colab": {
          "base_uri": "https://localhost:8080/"
        },
        "id": "kKWKiLEi7wJh",
        "outputId": "eb2378ca-84cf-4d8b-d340-bdcbe86708a3"
      },
      "source": [
        "model9_theta = []\n",
        "for i in [50,60,70,80,90,100]:\n",
        "  stim = y[theta==i].values\n",
        "  data_model9  = {\"N\":I*10, \"y\":stim}\n",
        "  model9 = pystan.StanModel(model_code=model9_code)\n",
        "  fit_model9 = model9.sampling(data=data_model9, chains=4, seed=111)\n",
        "  model9_theta.append(fit_model9['theta'].mean())\n",
        "  print(fit_model9['lambda'].mean())\n",
        "  print(fit_model9['theta'].mean())\n",
        "  print(fit_model9['psi'].mean())\n",
        "  print(fit_model9['mu'].mean())\n",
        "\n"
      ],
      "execution_count": null,
      "outputs": [
        {
          "output_type": "stream",
          "text": [
            "INFO:pystan:COMPILING THE C++ CODE FOR MODEL anon_model_8868383e95bde491fc9564ecd715c886 NOW.\n",
            "INFO:pystan:COMPILING THE C++ CODE FOR MODEL anon_model_8868383e95bde491fc9564ecd715c886 NOW.\n"
          ],
          "name": "stderr"
        },
        {
          "output_type": "stream",
          "text": [
            "10.275966205040428\n",
            "74.84276746106018\n",
            "22.868731942000426\n",
            "42.88590841463425\n"
          ],
          "name": "stdout"
        },
        {
          "output_type": "stream",
          "text": [
            "INFO:pystan:COMPILING THE C++ CODE FOR MODEL anon_model_8868383e95bde491fc9564ecd715c886 NOW.\n"
          ],
          "name": "stderr"
        },
        {
          "output_type": "stream",
          "text": [
            "11.98445213416541\n",
            "77.05058813547751\n",
            "27.56626053121921\n",
            "50.65815595275166\n"
          ],
          "name": "stdout"
        },
        {
          "output_type": "stream",
          "text": [
            "INFO:pystan:COMPILING THE C++ CODE FOR MODEL anon_model_8868383e95bde491fc9564ecd715c886 NOW.\n"
          ],
          "name": "stderr"
        },
        {
          "output_type": "stream",
          "text": [
            "13.290982510045982\n",
            "79.15226879272731\n",
            "22.42415472468755\n",
            "56.71385499052552\n"
          ],
          "name": "stdout"
        },
        {
          "output_type": "stream",
          "text": [
            "INFO:pystan:COMPILING THE C++ CODE FOR MODEL anon_model_8868383e95bde491fc9564ecd715c886 NOW.\n"
          ],
          "name": "stderr"
        },
        {
          "output_type": "stream",
          "text": [
            "14.716149344417904\n",
            "83.99034128589604\n",
            "23.65123852691026\n",
            "63.99053499142108\n"
          ],
          "name": "stdout"
        },
        {
          "output_type": "stream",
          "text": [
            "INFO:pystan:COMPILING THE C++ CODE FOR MODEL anon_model_8868383e95bde491fc9564ecd715c886 NOW.\n"
          ],
          "name": "stderr"
        },
        {
          "output_type": "stream",
          "text": [
            "16.1292263797982\n",
            "84.29210937687171\n",
            "26.26884096215719\n",
            "70.26380477160646\n",
            "17.74034752534639\n",
            "88.89788444766198\n",
            "29.95687411161317\n",
            "78.42863789999468\n"
          ],
          "name": "stdout"
        }
      ]
    },
    {
      "cell_type": "code",
      "metadata": {
        "colab": {
          "base_uri": "https://localhost:8080/"
        },
        "id": "54z4zuDAlN_J",
        "outputId": "3097eec6-fe6b-418a-ca6e-3e3a524c4d74"
      },
      "source": [
        "model9_theta"
      ],
      "execution_count": null,
      "outputs": [
        {
          "output_type": "execute_result",
          "data": {
            "text/plain": [
              "[74.84276746106018,\n",
              " 77.05058813547751,\n",
              " 79.15226879272731,\n",
              " 83.99034128589604,\n",
              " 84.29210937687171,\n",
              " 88.89788444766198]"
            ]
          },
          "metadata": {
            "tags": []
          },
          "execution_count": 41
        }
      ]
    },
    {
      "cell_type": "code",
      "metadata": {
        "colab": {
          "base_uri": "https://localhost:8080/"
        },
        "id": "SRTUMwLA7vnP",
        "outputId": "a741da77-962d-4baa-9232-8bb956b6639d"
      },
      "source": [
        "plt.scatter(model9_theta,[50,60,70,80,90,100])\n",
        "plt.xlabel(\"Model_9\")\n",
        "plt.ylabel(\"Truth\")\n",
        "plt.xlim(40,110)\n",
        "plt.ylim(40,110)\n",
        "xpoints = ypoints = plt.xlim()\n",
        "plt.plot(xpoints, ypoints, linestyle='--', color='k', lw=2, scalex=False, scaley=False, alpha = .5)\n"
      ],
      "execution_count": null,
      "outputs": [
        {
          "output_type": "execute_result",
          "data": {
            "text/plain": [
              "[<matplotlib.lines.Line2D at 0x7f5b599eddd0>]"
            ]
          },
          "metadata": {
            "tags": []
          },
          "execution_count": 42
        },
        {
          "output_type": "display_data",
          "data": {
            "image/png": "[encoded data removed]",
            "text/plain": [
              "<Figure size 432x288 with 1 Axes>"
            ]
          },
          "metadata": {
            "tags": [],
            "needs_background": "light"
          }
        }
      ]
    },
    {
      "cell_type": "code",
      "metadata": {
        "id": "srScNk2I-oJk"
      },
      "source": [
        "#I people, J questions\n",
        "\n",
        "model10_code = \"\"\"\n",
        "data {\n",
        "  int N;\n",
        "  vector<lower=0>[N] y; //response of person i on question j\n",
        "}\n",
        "parameters{\n",
        "  real<lower=0> psisq; \n",
        "  real<lower=0> lambda; \n",
        "  real<lower=0> theta;\n",
        "  real<lower=0> delta;\n",
        "}\n",
        "transformed parameters{\n",
        "  real<lower=0> psi;\n",
        "  real<lower=0> mu;\n",
        "  mu = lambda*log(theta) + delta;\n",
        "  psi = sqrt(psisq);\n",
        "}\n",
        "model{\n",
        "  delta ~ normal(0,10);\n",
        "  psisq ~ inv_gamma(1,1);\n",
        "  lambda ~ normal(10, 5);\n",
        "  theta ~ normal(75,30);\n",
        "  y ~ normal(mu, psi);\n",
        "}\n",
        "\"\"\"\n",
        "\n",
        "\n",
        "# target += normal_lpdf(psi | 0, 1);       // prior log-density\n",
        "# target += normal_lpdf(lambda | 0, 1);       // prior log-density\n",
        "# target += normal_lpdf(delta | 0, 1);       // prior log-density\n",
        "# target += normal_lpdf(y | mu, psi); // log-likelihood "
      ],
      "execution_count": null,
      "outputs": []
    },
    {
      "cell_type": "code",
      "metadata": {
        "colab": {
          "base_uri": "https://localhost:8080/"
        },
        "id": "qaSfC0Fb_Adr",
        "outputId": "2681462d-f946-4ec7-a34d-39312a461583"
      },
      "source": [
        "model10_theta = []\n",
        "for i in [50,60,70,80,90,100]:\n",
        "  stim = y[theta==i].values\n",
        "  data_model10  = {\"N\":I*10, \"y\":stim}\n",
        "  model10 = pystan.StanModel(model_code=model10_code)\n",
        "  fit_model10 = model10.sampling(data=data_model10, chains=4, seed=111)\n",
        "  model10_theta.append(fit_model10['theta'].mean())\n",
        "  print(fit_model10['lambda'].mean())\n",
        "  print(fit_model10['theta'].mean())\n",
        "  print(fit_model10['psi'].mean())\n",
        "  print(fit_model10['mu'].mean())\n",
        "\n"
      ],
      "execution_count": null,
      "outputs": [
        {
          "output_type": "stream",
          "text": [
            "INFO:pystan:COMPILING THE C++ CODE FOR MODEL anon_model_96260718f885f3064328c0c362bf310e NOW.\n",
            "WARNING:pystan:19 of 4000 iterations ended with a divergence (0.475 %).\n",
            "WARNING:pystan:Try running with adapt_delta larger than 0.8 to remove the divergences.\n",
            "INFO:pystan:COMPILING THE C++ CODE FOR MODEL anon_model_96260718f885f3064328c0c362bf310e NOW.\n"
          ],
          "name": "stderr"
        },
        {
          "output_type": "stream",
          "text": [
            "8.77688049654834\n",
            "70.34512728113343\n",
            "22.88873412973014\n",
            "42.91044465893035\n"
          ],
          "name": "stdout"
        },
        {
          "output_type": "stream",
          "text": [
            "WARNING:pystan:32 of 4000 iterations ended with a divergence (0.8 %).\n",
            "WARNING:pystan:Try running with adapt_delta larger than 0.8 to remove the divergences.\n",
            "INFO:pystan:COMPILING THE C++ CODE FOR MODEL anon_model_96260718f885f3064328c0c362bf310e NOW.\n"
          ],
          "name": "stderr"
        },
        {
          "output_type": "stream",
          "text": [
            "10.314781435315197\n",
            "73.63470813107563\n",
            "27.598624651661165\n",
            "50.681416498043575\n"
          ],
          "name": "stdout"
        },
        {
          "output_type": "stream",
          "text": [
            "WARNING:pystan:36 of 4000 iterations ended with a divergence (0.9 %).\n",
            "WARNING:pystan:Try running with adapt_delta larger than 0.8 to remove the divergences.\n",
            "INFO:pystan:COMPILING THE C++ CODE FOR MODEL anon_model_96260718f885f3064328c0c362bf310e NOW.\n"
          ],
          "name": "stderr"
        },
        {
          "output_type": "stream",
          "text": [
            "11.495245528561725\n",
            "75.26837296965167\n",
            "22.38729248735213\n",
            "56.69578485887787\n"
          ],
          "name": "stdout"
        },
        {
          "output_type": "stream",
          "text": [
            "WARNING:pystan:14 of 4000 iterations ended with a divergence (0.35 %).\n",
            "WARNING:pystan:Try running with adapt_delta larger than 0.8 to remove the divergences.\n",
            "INFO:pystan:COMPILING THE C++ CODE FOR MODEL anon_model_96260718f885f3064328c0c362bf310e NOW.\n"
          ],
          "name": "stderr"
        },
        {
          "output_type": "stream",
          "text": [
            "12.97655729274673\n",
            "78.99352341882366\n",
            "23.676792899049847\n",
            "64.01050173569679\n"
          ],
          "name": "stdout"
        },
        {
          "output_type": "stream",
          "text": [
            "WARNING:pystan:7 of 4000 iterations ended with a divergence (0.175 %).\n",
            "WARNING:pystan:Try running with adapt_delta larger than 0.8 to remove the divergences.\n",
            "INFO:pystan:COMPILING THE C++ CODE FOR MODEL anon_model_96260718f885f3064328c0c362bf310e NOW.\n"
          ],
          "name": "stderr"
        },
        {
          "output_type": "stream",
          "text": [
            "14.21458743703222\n",
            "81.07923220345971\n",
            "26.269755891096704\n",
            "70.3009984725458\n"
          ],
          "name": "stdout"
        },
        {
          "output_type": "stream",
          "text": [
            "WARNING:pystan:13 of 4000 iterations ended with a divergence (0.325 %).\n",
            "WARNING:pystan:Try running with adapt_delta larger than 0.8 to remove the divergences.\n"
          ],
          "name": "stderr"
        },
        {
          "output_type": "stream",
          "text": [
            "15.82481429603836\n",
            "84.82964834967764\n",
            "29.970490184814143\n",
            "78.47516523888\n"
          ],
          "name": "stdout"
        }
      ]
    },
    {
      "cell_type": "code",
      "metadata": {
        "colab": {
          "base_uri": "https://localhost:8080/"
        },
        "id": "b7_XRhAW_DZj",
        "outputId": "48303a51-ad19-413f-b62e-5a4d5932c1f0"
      },
      "source": [
        "plt.scatter(model10_theta,[50,60,70,80,90,100])\n",
        "plt.xlabel(\"Model_10\")\n",
        "plt.ylabel(\"Truth\")\n",
        "plt.xlim(40,110)\n",
        "plt.ylim(40,110)\n",
        "xpoints = ypoints = plt.xlim()\n",
        "plt.plot(xpoints, ypoints, linestyle='--', color='k', lw=2, scalex=False, scaley=False, alpha = .5)\n"
      ],
      "execution_count": null,
      "outputs": [
        {
          "output_type": "execute_result",
          "data": {
            "text/plain": [
              "[<matplotlib.lines.Line2D at 0x7f5b55992cd0>]"
            ]
          },
          "metadata": {
            "tags": []
          },
          "execution_count": 45
        },
        {
          "output_type": "display_data",
          "data": {
            "image/png": "[encoded data removed]",
            "text/plain": [
              "<Figure size 432x288 with 1 Axes>"
            ]
          },
          "metadata": {
            "tags": [],
            "needs_background": "light"
          }
        }
      ]
    },
    {
      "cell_type": "code",
      "metadata": {
        "id": "RL8sZoDjA7LE"
      },
      "source": [
        "#I people, J questions\n",
        "\n",
        "model_stevenslaw_code = \"\"\"\n",
        "data {\n",
        "  int<lower=0> I; //Number of people\n",
        "  int<lower=0> J; //Number of questions\n",
        "  matrix<lower=0>[I,J] y; //stimulus intensity\n",
        "  matrix<lower=0>[I,J] d; //sensation magnitude\n",
        "  real U;\n",
        "}\n",
        "parameters{\n",
        "  real<lower=0> psisq; \n",
        "  real<lower=0> k;\n",
        "  real<lower=0> alpha;\n",
        "\n",
        "}\n",
        "transformed parameters{\n",
        "  real<lower=0> psi;\n",
        "  matrix<lower=0>[I,J] nu;\n",
        "  matrix<lower=0>[I,J] mu;\n",
        "  for(i in 1:I)\n",
        "    for(j in 1:J)\n",
        "      nu[i,j] = pow(d[i,j],alpha);\n",
        "  mu = k*nu;\n",
        "  psi = sqrt(psisq);\n",
        "}\n",
        "model{\n",
        "  psisq ~ inv_gamma(1,1);\n",
        "  alpha ~ normal(.5,1);\n",
        "  k ~ normal(10,10);\n",
        "  for(i in 1:I)\n",
        "    for(j in 1:J)\n",
        "      y[i,j] ~ normal(mu[i,j], psi);\n",
        "}\n",
        "\"\"\"\n"
      ],
      "execution_count": null,
      "outputs": []
    },
    {
      "cell_type": "code",
      "metadata": {
        "colab": {
          "base_uri": "https://localhost:8080/"
        },
        "id": "8EFuVIDK86Kj",
        "outputId": "088f4e2e-3a22-4823-c409-2f6d22988a4f"
      },
      "source": [
        "data_model_stl= {\"I\":I, \"J\":J, \"y\":y.values.reshape(I,J), \"d\":theta.values.reshape(I,J), \"U\":0}\n",
        "model_stl = pystan.StanModel(model_code=model_stevenslaw_code)\n",
        "fit_model_stl = model_stl.sampling(data=data_model_stl, chains=4, seed=111)\n",
        "\n"
      ],
      "execution_count": null,
      "outputs": [
        {
          "output_type": "stream",
          "text": [
            "INFO:pystan:COMPILING THE C++ CODE FOR MODEL anon_model_13509a220e1e6eb443dbee731243b0a9 NOW.\n",
            "WARNING:pystan:Maximum (flat) parameter count (1000) exceeded: skipping diagnostic tests for n_eff and Rhat.\n",
            "To run all diagnostics call pystan.check_hmc_diagnostics(fit)\n"
          ],
          "name": "stderr"
        }
      ]
    },
    {
      "cell_type": "code",
      "metadata": {
        "colab": {
          "base_uri": "https://localhost:8080/",
          "height": 367
        },
        "id": "uiCUxZ4-9jZB",
        "outputId": "54331311-df78-4d5f-c90a-365746af4f06"
      },
      "source": [
        "plt.hist(fit_model_stl['k'])"
      ],
      "execution_count": null,
      "outputs": [
        {
          "output_type": "execute_result",
          "data": {
            "text/plain": [
              "(array([  45.,  279.,  756., 1061.,  840.,  616.,  267.,   94.,   37.,\n",
              "           5.]),\n",
              " array([0.95152994, 1.09006779, 1.22860563, 1.36714348, 1.50568132,\n",
              "        1.64421916, 1.78275701, 1.92129485, 2.0598327 , 2.19837054,\n",
              "        2.33690838]),\n",
              " <a list of 10 Patch objects>)"
            ]
          },
          "metadata": {
            "tags": []
          },
          "execution_count": 48
        },
        {
          "output_type": "display_data",
          "data": {
            "image/png": "[encoded data removed]",
            "text/plain": [
              "<Figure size 432x288 with 1 Axes>"
            ]
          },
          "metadata": {
            "tags": [],
            "needs_background": "light"
          }
        }
      ]
    },
    {
      "cell_type": "code",
      "metadata": {
        "colab": {
          "base_uri": "https://localhost:8080/"
        },
        "id": "e8Gjt4QrF-9F",
        "outputId": "93d94950-f738-4a28-a626-0b3affba9dff"
      },
      "source": [
        "plt.hist(fit_model_stl['alpha'])"
      ],
      "execution_count": null,
      "outputs": [
        {
          "output_type": "execute_result",
          "data": {
            "text/plain": [
              "(array([  18.,   84.,  295.,  680.,  869., 1009.,  633.,  304.,   93.,\n",
              "          15.]),\n",
              " array([0.75564037, 0.77623905, 0.79683772, 0.8174364 , 0.83803508,\n",
              "        0.85863375, 0.87923243, 0.89983111, 0.92042978, 0.94102846,\n",
              "        0.96162714]),\n",
              " <a list of 10 Patch objects>)"
            ]
          },
          "metadata": {
            "tags": []
          },
          "execution_count": 49
        },
        {
          "output_type": "display_data",
          "data": {
            "image/png": "[encoded data removed]",
            "text/plain": [
              "<Figure size 432x288 with 1 Axes>"
            ]
          },
          "metadata": {
            "tags": [],
            "needs_background": "light"
          }
        }
      ]
    },
    {
      "cell_type": "code",
      "metadata": {
        "colab": {
          "base_uri": "https://localhost:8080/"
        },
        "id": "uEKBPDvsGDNE",
        "outputId": "d7be06aa-130e-4b5d-925a-ec607517171d"
      },
      "source": [
        "plt.hist(fit_model_stl['psi'])"
      ],
      "execution_count": null,
      "outputs": [
        {
          "output_type": "execute_result",
          "data": {
            "text/plain": [
              "(array([ 23., 116., 427., 752., 939., 942., 495., 227.,  67.,  12.]),\n",
              " array([24.69189884, 24.88449917, 25.0770995 , 25.26969983, 25.46230015,\n",
              "        25.65490048, 25.84750081, 26.04010114, 26.23270147, 26.4253018 ,\n",
              "        26.61790212]),\n",
              " <a list of 10 Patch objects>)"
            ]
          },
          "metadata": {
            "tags": []
          },
          "execution_count": 50
        },
        {
          "output_type": "display_data",
          "data": {
            "image/png": "[encoded data removed]",
            "text/plain": [
              "<Figure size 432x288 with 1 Axes>"
            ]
          },
          "metadata": {
            "tags": [],
            "needs_background": "light"
          }
        }
      ]
    },
    {
      "cell_type": "code",
      "metadata": {
        "id": "Xlf3TVfuwoZl"
      },
      "source": [
        "#I people, J questions\n",
        "\n",
        "model_stevenslaw_code_hierarchical = \"\"\"\n",
        "data {\n",
        "  int<lower=0> I; //Number of people\n",
        "  int<lower=0> J; //Number of questions\n",
        "  matrix<lower=0>[I,J] y; //stimulus intensity\n",
        "  matrix<lower=0>[I,J] d; //sensation magnitude\n",
        "  real U;\n",
        "}\n",
        "parameters{\n",
        "  real<lower=0> psisq; \n",
        "  real<lower=0> k;\n",
        "  real<lower=0> alpha;\n",
        "  real<lower=0> mu_alpha;\n",
        "  real<lower=0> mu_k;\n",
        "\n",
        "}\n",
        "transformed parameters{\n",
        "  real<lower=0> psi;\n",
        "  matrix<lower=0>[I,J] nu;\n",
        "  matrix<lower=0>[I,J] mu;\n",
        "  for(i in 1:I)\n",
        "    for(j in 1:J)\n",
        "      nu[i,j] = pow(d[i,j],alpha);\n",
        "  mu = k*nu;\n",
        "  psi = sqrt(psisq);\n",
        "}\n",
        "model{\n",
        "  psisq ~ inv_gamma(1,1);\n",
        "  alpha ~ normal(mu_alpha,1);\n",
        "  k ~ normal(mu_k,10);\n",
        "  mu_alpha ~ normal(.5,1);\n",
        "  mu_k ~ normal(10,10);\n",
        "  for(i in 1:I)\n",
        "    for(j in 1:J)\n",
        "      y[i,j] ~ normal(mu[i,j], psi);\n",
        "}\n",
        "\"\"\"\n"
      ],
      "execution_count": null,
      "outputs": []
    },
    {
      "cell_type": "code",
      "metadata": {
        "colab": {
          "base_uri": "https://localhost:8080/"
        },
        "id": "4NyW1DnixB4H",
        "outputId": "2b83cc42-be31-466f-985b-96e1b286185d"
      },
      "source": [
        "data_model_stl= {\"I\":I, \"J\":J, \"y\":y.values.reshape(I,J), \"d\":theta.values.reshape(I,J), \"U\":0}\n",
        "model_stl = pystan.StanModel(model_code=model_stevenslaw_code_hierarchical)\n",
        "fit_model_stl = model_stl.sampling(data=data_model_stl, chains=4, seed=111)\n",
        "\n"
      ],
      "execution_count": null,
      "outputs": [
        {
          "output_type": "stream",
          "text": [
            "INFO:pystan:COMPILING THE C++ CODE FOR MODEL anon_model_504382a078aaa0f39f760cc8b48f7338 NOW.\n",
            "WARNING:pystan:Maximum (flat) parameter count (1000) exceeded: skipping diagnostic tests for n_eff and Rhat.\n",
            "To run all diagnostics call pystan.check_hmc_diagnostics(fit)\n"
          ],
          "name": "stderr"
        }
      ]
    },
    {
      "cell_type": "code",
      "metadata": {
        "colab": {
          "base_uri": "https://localhost:8080/"
        },
        "id": "M8NOUmOVxBqk",
        "outputId": "515d04f5-c444-4970-cdc4-214815bdf0aa"
      },
      "source": [
        "plt.hist(fit_model_stl['k'])"
      ],
      "execution_count": null,
      "outputs": [
        {
          "output_type": "execute_result",
          "data": {
            "text/plain": [
              "(array([3.800e+01, 4.720e+02, 1.374e+03, 1.370e+03, 5.880e+02, 1.310e+02,\n",
              "        2.400e+01, 1.000e+00, 1.000e+00, 1.000e+00]),\n",
              " array([0.87531458, 1.0791687 , 1.28302282, 1.48687693, 1.69073105,\n",
              "        1.89458517, 2.09843928, 2.3022934 , 2.50614751, 2.71000163,\n",
              "        2.91385575]),\n",
              " <a list of 10 Patch objects>)"
            ]
          },
          "metadata": {
            "tags": []
          },
          "execution_count": 53
        },
        {
          "output_type": "display_data",
          "data": {
            "image/png": "[encoded data removed]",
            "text/plain": [
              "<Figure size 432x288 with 1 Axes>"
            ]
          },
          "metadata": {
            "tags": [],
            "needs_background": "light"
          }
        }
      ]
    },
    {
      "cell_type": "code",
      "metadata": {
        "colab": {
          "base_uri": "https://localhost:8080/",
          "height": 350
        },
        "id": "0GUB1l26xBno",
        "outputId": "cd56c321-44e4-4e93-a510-d00194765dda"
      },
      "source": [
        "plt.hist(fit_model_stl['mu_k'])"
      ],
      "execution_count": null,
      "outputs": [
        {
          "output_type": "execute_result",
          "data": {
            "text/plain": [
              "(array([657., 879., 889., 630., 458., 295., 134.,  39.,  15.,   4.]),\n",
              " array([4.78374527e-03, 3.00287146e+00, 6.00095917e+00, 8.99904689e+00,\n",
              "        1.19971346e+01, 1.49952223e+01, 1.79933100e+01, 2.09913977e+01,\n",
              "        2.39894855e+01, 2.69875732e+01, 2.99856609e+01]),\n",
              " <a list of 10 Patch objects>)"
            ]
          },
          "metadata": {
            "tags": []
          },
          "execution_count": 54
        },
        {
          "output_type": "display_data",
          "data": {
            "image/png": "[encoded data removed]",
            "text/plain": [
              "<Figure size 432x288 with 1 Axes>"
            ]
          },
          "metadata": {
            "tags": [],
            "needs_background": "light"
          }
        }
      ]
    },
    {
      "cell_type": "code",
      "metadata": {
        "colab": {
          "base_uri": "https://localhost:8080/",
          "height": 367
        },
        "id": "4fFdZBJuxBlB",
        "outputId": "ef5ed88a-6934-432d-8b4b-1eccb973eaf5"
      },
      "source": [
        "plt.hist(fit_model_stl['alpha'])"
      ],
      "execution_count": null,
      "outputs": [
        {
          "output_type": "execute_result",
          "data": {
            "text/plain": [
              "(array([2.000e+00, 1.000e+00, 4.400e+01, 2.760e+02, 8.690e+02, 1.479e+03,\n",
              "        9.260e+02, 3.320e+02, 6.100e+01, 1.000e+01]),\n",
              " array([0.70387234, 0.73148644, 0.75910053, 0.78671463, 0.81432873,\n",
              "        0.84194283, 0.86955693, 0.89717103, 0.92478513, 0.95239923,\n",
              "        0.98001333]),\n",
              " <a list of 10 Patch objects>)"
            ]
          },
          "metadata": {
            "tags": []
          },
          "execution_count": 55
        },
        {
          "output_type": "display_data",
          "data": {
            "image/png": "[encoded data removed]",
            "text/plain": [
              "<Figure size 432x288 with 1 Axes>"
            ]
          },
          "metadata": {
            "tags": [],
            "needs_background": "light"
          }
        }
      ]
    },
    {
      "cell_type": "code",
      "metadata": {
        "colab": {
          "base_uri": "https://localhost:8080/"
        },
        "id": "u5YREqTjxOQ1",
        "outputId": "d0efd68d-f2d4-4b4d-c186-42a7cff86b66"
      },
      "source": [
        "plt.hist(fit_model_stl['mu_alpha'])"
      ],
      "execution_count": null,
      "outputs": [
        {
          "output_type": "execute_result",
          "data": {
            "text/plain": [
              "(array([735., 812., 843., 678., 492., 278., 108.,  44.,   8.,   2.]),\n",
              " array([1.52176760e-03, 3.27288819e-01, 6.53055871e-01, 9.78822922e-01,\n",
              "        1.30458997e+00, 1.63035702e+00, 1.95612408e+00, 2.28189113e+00,\n",
              "        2.60765818e+00, 2.93342523e+00, 3.25919228e+00]),\n",
              " <a list of 10 Patch objects>)"
            ]
          },
          "metadata": {
            "tags": []
          },
          "execution_count": 56
        },
        {
          "output_type": "display_data",
          "data": {
            "image/png": "[encoded data removed]",
            "text/plain": [
              "<Figure size 432x288 with 1 Axes>"
            ]
          },
          "metadata": {
            "tags": [],
            "needs_background": "light"
          }
        }
      ]
    },
    {
      "cell_type": "code",
      "metadata": {
        "id": "CMGVzxZKGMkk"
      },
      "source": [
        "#per person k \n",
        "model_sl1_code = \"\"\"\n",
        "data {\n",
        "  int<lower=0> I; //Number of people\n",
        "  int<lower=0> N; \n",
        "  vector<lower=0>[N] y; //sensation magnitude\n",
        "  real U;\n",
        "}\n",
        "parameters{\n",
        "  real<lower=0> psisq; \n",
        "  real<lower=0> k;\n",
        "  real<lower=0> alpha;\n",
        "  real<lower=0> theta;\n",
        "\n",
        "}\n",
        "transformed parameters{\n",
        "  real<lower=0> psi;\n",
        "  real<lower=0> mu;\n",
        "  real<lower=0> nu;\n",
        "  nu = pow(theta,alpha);\n",
        "  mu= k*nu;\n",
        "  psi = sqrt(psisq);\n",
        "}\n",
        "model{\n",
        "  theta ~ normal(75,25);\n",
        "  psisq ~ inv_gamma(1,1);\n",
        "  alpha ~ normal(.9,.1);\n",
        "  k ~ normal(1.5,.25);\n",
        "  y ~ normal(mu, psi);\n",
        "}\n",
        "\"\"\""
      ],
      "execution_count": null,
      "outputs": []
    },
    {
      "cell_type": "code",
      "metadata": {
        "colab": {
          "base_uri": "https://localhost:8080/"
        },
        "id": "8ZOEHXn5nF9J",
        "outputId": "ba125a49-8ef2-4683-fa52-db454dfca49e"
      },
      "source": [
        "for value in [50,60,70,80,90,100]:\n",
        "  print(y[theta==value].mean())"
      ],
      "execution_count": null,
      "outputs": [
        {
          "output_type": "stream",
          "text": [
            "42.885714285714286\n",
            "50.68888888888889\n",
            "56.73968253968254\n",
            "64.03809523809524\n",
            "70.33174603174604\n",
            "78.55714285714286\n"
          ],
          "name": "stdout"
        }
      ]
    },
    {
      "cell_type": "code",
      "metadata": {
        "colab": {
          "base_uri": "https://localhost:8080/",
          "height": 215
        },
        "id": "VwnI7nUOGtMe",
        "outputId": "4a125f67-f766-4926-9a16-1d1d183aaa93"
      },
      "source": [
        "# .values.reshape(I,10)\n",
        "mean_estimate_theta = []\n",
        "for value in [50,60,70,80,90,100]:\n",
        "  data_model_sl1= {\"I\":I, \"N\":I*10,\"y\":y[theta==value], \"U\":0}\n",
        "  model_sl1 = pystan.StanModel(model_code=model_sl1_code)\n",
        "  fit_model_sl1 = model_sl1.sampling(data=data_model_sl1, chains=4, seed=111)\n",
        "  # mean_estimate = [0]*I\n",
        "  # for i in range(I):\n",
        "    # mean_estimate = ((value)**mean_alpha)*fit_model_sl1[f'k[{i+1}]'].mean()\n",
        "  mean_estimate_theta.append(fit_model_sl1['theta'].mean())\n",
        "  print(f\"theta: {value}, estimate:{np.mean(mean_estimate)}\")\n"
      ],
      "execution_count": null,
      "outputs": [
        {
          "output_type": "stream",
          "text": [
            "INFO:pystan:COMPILING THE C++ CODE FOR MODEL anon_model_bf3b4be72520ffc9f5b0e1338e2131e6 NOW.\n"
          ],
          "name": "stderr"
        },
        {
          "output_type": "error",
          "ename": "NameError",
          "evalue": "ignored",
          "traceback": [
            "\u001b[0;31m---------------------------------------------------------------------------\u001b[0m",
            "\u001b[0;31mNameError\u001b[0m                                 Traceback (most recent call last)",
            "\u001b[0;32m<ipython-input-59-dfa38e4414bc>\u001b[0m in \u001b[0;36m<module>\u001b[0;34m()\u001b[0m\n\u001b[1;32m      9\u001b[0m     \u001b[0;31m# mean_estimate = ((value)**mean_alpha)*fit_model_sl1[f'k[{i+1}]'].mean()\u001b[0m\u001b[0;34m\u001b[0m\u001b[0;34m\u001b[0m\u001b[0;34m\u001b[0m\u001b[0m\n\u001b[1;32m     10\u001b[0m   \u001b[0mmean_estimate_theta\u001b[0m\u001b[0;34m.\u001b[0m\u001b[0mappend\u001b[0m\u001b[0;34m(\u001b[0m\u001b[0mfit_model_sl1\u001b[0m\u001b[0;34m[\u001b[0m\u001b[0;34m'theta'\u001b[0m\u001b[0;34m]\u001b[0m\u001b[0;34m.\u001b[0m\u001b[0mmean\u001b[0m\u001b[0;34m(\u001b[0m\u001b[0;34m)\u001b[0m\u001b[0;34m)\u001b[0m\u001b[0;34m\u001b[0m\u001b[0;34m\u001b[0m\u001b[0m\n\u001b[0;32m---> 11\u001b[0;31m   \u001b[0mprint\u001b[0m\u001b[0;34m(\u001b[0m\u001b[0;34mf\"theta: {value}, estimate:{np.mean(mean_estimate)}\"\u001b[0m\u001b[0;34m)\u001b[0m\u001b[0;34m\u001b[0m\u001b[0;34m\u001b[0m\u001b[0m\n\u001b[0m",
            "\u001b[0;31mNameError\u001b[0m: name 'mean_estimate' is not defined"
          ]
        }
      ]
    },
    {
      "cell_type": "code",
      "metadata": {
        "id": "QtTuP3olZBZK"
      },
      "source": [
        "mean_estimate_theta = []\n",
        "k_estimate = [0]*I\n",
        "for i in range(I):\n",
        "  k_estimate[i] = fit_model_sl1[f'k[{i+1}]'].mean()\n",
        "plt.hist(k_estimate)"
      ],
      "execution_count": null,
      "outputs": []
    },
    {
      "cell_type": "code",
      "metadata": {
        "id": "3yQYJLeUYs5x"
      },
      "source": [
        "plt.scatter(mean_estimate_theta,[50,60,70,80,90,100])\n",
        "plt.xlabel(\"SL1\")\n",
        "plt.ylabel(\"Truth\")\n",
        "plt.xlim(30,120)\n",
        "plt.ylim(30,120)\n",
        "xpoints = ypoints = plt.xlim()\n",
        "plt.plot(xpoints, ypoints, linestyle='--', color='k', lw=2, scalex=False, scaley=False, alpha = .5)\n"
      ],
      "execution_count": null,
      "outputs": []
    },
    {
      "cell_type": "code",
      "metadata": {
        "id": "PlV1SwOIVj2e"
      },
      "source": [
        "#per person k , alpha\n",
        "model_sl2_code = \"\"\"\n",
        "data {\n",
        "  int<lower=0> I; //Number of people\n",
        "  matrix<lower=0>[I,10] y; //sensation magnitude\n",
        "  real U;\n",
        "}\n",
        "parameters{\n",
        "  real<lower=0> psisq; \n",
        "  vector<lower=0>[I] k;\n",
        "  vector<lower=0>[I] alpha;\n",
        "  real<lower=0> theta;\n",
        "\n",
        "}\n",
        "transformed parameters{\n",
        "  real<lower=0> psi;\n",
        "  vector<lower=0>[I] nu;\n",
        "  vector<lower=0>[I] mu;\n",
        "  for(i in 1:I)\n",
        "    nu[i] = pow(theta,alpha[i]);\n",
        "  for(i in 1:I)\n",
        "    mu[i] = k[i]*nu[i];\n",
        "    \n",
        "  psi = sqrt(psisq);\n",
        "}\n",
        "model{\n",
        "  theta ~ normal(75,25);\n",
        "  psisq ~ inv_gamma(1,1);\n",
        "  alpha ~ normal(.9,.1);\n",
        "  k ~ normal(1.5,.25);\n",
        "  for(i in 1:I)\n",
        "    y[i] ~ normal(mu[i], psi);\n",
        "}\n",
        "\"\"\""
      ],
      "execution_count": null,
      "outputs": []
    },
    {
      "cell_type": "code",
      "metadata": {
        "id": "TuZd8vjlVjzQ"
      },
      "source": [
        "mean_estimate_theta_sl2 = []\n",
        "for value in [50,60,70,80,90,100]:\n",
        "  data_model_sl2= {\"I\":I, \"y\":y[theta==value].values.reshape(I,10), \"U\":0}\n",
        "  model_sl2 = pystan.StanModel(model_code=model_sl2_code)\n",
        "  fit_model_sl2 = model_sl2.sampling(data=data_model_sl2, chains=4, seed=111)\n",
        "  mean_estimate = fit_model_sl2['theta'].mean()\n",
        "  mean_estimate_theta_sl2.append(mean_estimate)\n",
        "  print(f\"theta: {value}, estimate:{mean_estimate}\")\n"
      ],
      "execution_count": null,
      "outputs": []
    },
    {
      "cell_type": "code",
      "metadata": {
        "id": "ahsQa0bfVjmT"
      },
      "source": [
        "plt.scatter(mean_estimate_theta_sl2,[50,60,70,80,90,100], label='model: stevens law')\n",
        "plt.scatter(mean_response,[50,60,70,80,90,100], label = 'mean')\n",
        "plt.xlabel('Estimated')\n",
        "plt.ylabel(\"Truth\")\n",
        "plt.xlim(30,110)\n",
        "plt.ylim(30,110)\n",
        "plt.legend()\n",
        "xpoints = ypoints = plt.xlim()\n",
        "plt.plot(xpoints, ypoints, linestyle='--', color='k', lw=2, scalex=False, scaley=False, alpha = .5)\n"
      ],
      "execution_count": null,
      "outputs": []
    },
    {
      "cell_type": "code",
      "metadata": {
        "id": "fGybgBt3cB0n"
      },
      "source": [
        "#per person k , alpha\n",
        "model_sl2_hierarchical_code = \"\"\"\n",
        "data {\n",
        "  int<lower=0> I; //Number of people\n",
        "  matrix<lower=0>[I,10] y; //sensation magnitude\n",
        "  real U;\n",
        "  real L;\n",
        "}\n",
        "parameters{\n",
        "  real<lower=0> psisq; \n",
        "  real<lower=0> mu_alpha; \n",
        "  real<lower=0> mu_k; \n",
        "  vector<lower=0>[I] k;\n",
        "  vector<lower=0>[I] alpha;\n",
        "  real<lower=0> theta;\n",
        "\n",
        "}\n",
        "transformed parameters{\n",
        "  real<lower=0> psi;\n",
        "  vector<lower=0>[I] nu;\n",
        "  vector<lower=0>[I] mu;\n",
        "  for(i in 1:I)\n",
        "    nu[i] = pow(theta,alpha[i]);\n",
        "  for(i in 1:I)\n",
        "    mu[i] = k[i]*nu[i];    \n",
        "  psi = sqrt(psisq);\n",
        "}\n",
        "model{\n",
        "  theta ~ normal(75,25);\n",
        "  psisq ~ inv_gamma(1,1);\n",
        "  alpha ~ normal(mu_alpha,.1);\n",
        "  mu_alpha ~ normal(.9,.2) T[L,U];\n",
        "  k ~ normal(mu_k,.2);\n",
        "  mu_k ~ normal(1.5, .3) T[L,U];\n",
        "  for(i in 1:I)\n",
        "    y[i] ~ normal(mu[i], psi);\n",
        "}\n",
        "\"\"\""
      ],
      "execution_count": null,
      "outputs": []
    },
    {
      "cell_type": "code",
      "metadata": {
        "id": "5wtzazoaco72"
      },
      "source": [
        "mean_estimate_theta_sl2_hierarchical = []\n",
        "for value in [50,60,70,80,90,100]:\n",
        "  data_model_sl2_hierarchical= {\"I\":I, \"y\":y[theta==value].values.reshape(I,10), \"U\":1000, \"L\":0}\n",
        "  model_sl2_hierarchical = pystan.StanModel(model_code=model_sl2_hierarchical_code)\n",
        "  fit_model_sl2_hierarchical = model_sl2_hierarchical.sampling(data=data_model_sl2_hierarchical, chains=4, seed=111)\n",
        "  mean_estimate = fit_model_sl2_hierarchical['theta'].mean()\n",
        "  mean_estimate_theta_sl2_hierarchical.append(mean_estimate)\n",
        "  print(f\"theta: {value}, estimate:{mean_estimate}\")\n"
      ],
      "execution_count": null,
      "outputs": []
    },
    {
      "cell_type": "code",
      "metadata": {
        "id": "Dhzipsk8uCcK"
      },
      "source": [
        "plt.scatter(mean_estimate_theta_sl2_hierarchical,[50,60,70,80,90,100], label='model: SL hierachical')\n",
        "plt.scatter(mean_response,[50,60,70,80,90,100], label = 'mean')\n",
        "plt.xlabel('Estimated')\n",
        "plt.ylabel(\"Truth\")\n",
        "plt.xlim(30,110)\n",
        "plt.ylim(30,110)\n",
        "plt.legend()\n",
        "xpoints = ypoints = plt.xlim()\n",
        "plt.plot(xpoints, ypoints, linestyle='--', color='k', lw=2, scalex=False, scaley=False, alpha = .5)\n"
      ],
      "execution_count": null,
      "outputs": []
    },
    {
      "cell_type": "code",
      "metadata": {
        "id": "v7E7X2IFxki9"
      },
      "source": [
        ""
      ],
      "execution_count": null,
      "outputs": []
    }
  ]
}