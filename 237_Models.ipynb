{
  "nbformat": 4,
  "nbformat_minor": 0,
  "metadata": {
    "colab": {
      "name": "237 - Model1.ipynb",
      "provenance": [],
      "collapsed_sections": [],
      "mount_file_id": "12miDyMPztsjAYNUE30qPb8TUsBL4-rsR",
      "authorship_tag": "ABX9TyOxWAJXmei/5dbJEMv4U6xi",
      "include_colab_link": true
    },
    "kernelspec": {
      "display_name": "Python 3",
      "name": "python3"
    },
    "language_info": {
      "name": "python"
    }
  },
  "cells": [
    {
      "cell_type": "markdown",
      "metadata": {
        "id": "view-in-github",
        "colab_type": "text"
      },
      "source": [
        "<a href=\"https://colab.research.google.com/github/aakriti1kumar/Psych237-ScalarEstimation/blob/main/237_Models.ipynb\" target=\"_parent\"><img src=\"https://colab.research.google.com/assets/colab-badge.svg\" alt=\"Open In Colab\"/></a>"
      ]
    },
    {
      "cell_type": "code",
      "metadata": {
        "id": "ayTYtxCM_KKR",
        "colab": {
          "base_uri": "https://localhost:8080/"
        },
        "outputId": "980d889f-d715-4465-9b76-3a69a0a4a1c5"
      },
      "source": [
        "!pip install pystan\n",
        "import pystan\n",
        "!pip install arviz\n",
        "import arviz as az\n",
        "import numpy as np\n",
        "import math\n",
        "import pandas as pd\n",
        "import matplotlib.pyplot as plt\n",
        "import seaborn as sns\n",
        "from scipy.stats import beta, bernoulli\n",
        "import math\n",
        "from scipy.special import btdtri, logit, softmax"
      ],
      "execution_count": 2,
      "outputs": [
        {
          "output_type": "stream",
          "text": [
            "Requirement already satisfied: pystan in /usr/local/lib/python3.7/dist-packages (2.19.1.1)\n",
            "Requirement already satisfied: Cython!=0.25.1,>=0.22 in /usr/local/lib/python3.7/dist-packages (from pystan) (0.29.23)\n",
            "Requirement already satisfied: numpy>=1.7 in /usr/local/lib/python3.7/dist-packages (from pystan) (1.19.5)\n",
            "Requirement already satisfied: arviz in /usr/local/lib/python3.7/dist-packages (0.11.2)\n",
            "Requirement already satisfied: matplotlib>=3.0 in /usr/local/lib/python3.7/dist-packages (from arviz) (3.2.2)\n",
            "Requirement already satisfied: pandas>=0.23 in /usr/local/lib/python3.7/dist-packages (from arviz) (1.1.5)\n",
            "Requirement already satisfied: typing-extensions<4,>=3.7.4.3 in /usr/local/lib/python3.7/dist-packages (from arviz) (3.7.4.3)\n",
            "Requirement already satisfied: xarray>=0.16.1 in /usr/local/lib/python3.7/dist-packages (from arviz) (0.18.2)\n",
            "Requirement already satisfied: numpy>=1.12 in /usr/local/lib/python3.7/dist-packages (from arviz) (1.19.5)\n",
            "Requirement already satisfied: packaging in /usr/local/lib/python3.7/dist-packages (from arviz) (20.9)\n",
            "Requirement already satisfied: setuptools>=38.4 in /usr/local/lib/python3.7/dist-packages (from arviz) (57.0.0)\n",
            "Requirement already satisfied: scipy>=0.19 in /usr/local/lib/python3.7/dist-packages (from arviz) (1.4.1)\n",
            "Requirement already satisfied: netcdf4 in /usr/local/lib/python3.7/dist-packages (from arviz) (1.5.6)\n",
            "Requirement already satisfied: kiwisolver>=1.0.1 in /usr/local/lib/python3.7/dist-packages (from matplotlib>=3.0->arviz) (1.3.1)\n",
            "Requirement already satisfied: pyparsing!=2.0.4,!=2.1.2,!=2.1.6,>=2.0.1 in /usr/local/lib/python3.7/dist-packages (from matplotlib>=3.0->arviz) (2.4.7)\n",
            "Requirement already satisfied: python-dateutil>=2.1 in /usr/local/lib/python3.7/dist-packages (from matplotlib>=3.0->arviz) (2.8.1)\n",
            "Requirement already satisfied: cycler>=0.10 in /usr/local/lib/python3.7/dist-packages (from matplotlib>=3.0->arviz) (0.10.0)\n",
            "Requirement already satisfied: pytz>=2017.2 in /usr/local/lib/python3.7/dist-packages (from pandas>=0.23->arviz) (2018.9)\n",
            "Requirement already satisfied: cftime in /usr/local/lib/python3.7/dist-packages (from netcdf4->arviz) (1.5.0)\n",
            "Requirement already satisfied: six>=1.5 in /usr/local/lib/python3.7/dist-packages (from python-dateutil>=2.1->matplotlib>=3.0->arviz) (1.15.0)\n"
          ],
          "name": "stdout"
        }
      ]
    },
    {
      "cell_type": "markdown",
      "metadata": {
        "id": "RyhG37ANhpkl"
      },
      "source": [
        "Data"
      ]
    },
    {
      "cell_type": "code",
      "metadata": {
        "id": "kilx7O3zU2-s"
      },
      "source": [
        "df = pd.read_csv(\"https://raw.githubusercontent.com/aakriti1kumar/Psych237-ScalarEstimation/main/crone_data.csv\")\n",
        "df = df[df['Experiment']=='crone1']\n",
        "I=int(len(df['UserID'].unique()))\n",
        "J = int(len(df['UserID'])/I)\n",
        "N = I*J\n",
        "y = df['Response']\n",
        "theta = df['Question']"
      ],
      "execution_count": 5,
      "outputs": []
    },
    {
      "cell_type": "markdown",
      "metadata": {
        "id": "mUQOyC8IhtUy"
      },
      "source": [
        "Look at outliers"
      ]
    },
    {
      "cell_type": "code",
      "metadata": {
        "colab": {
          "base_uri": "https://localhost:8080/"
        },
        "id": "_LJcIWLfrhmZ",
        "outputId": "0eb8b4f4-c3b7-4834-a4e7-fcbb194db516"
      },
      "source": [
        "y[y>200]"
      ],
      "execution_count": 6,
      "outputs": [
        {
          "output_type": "stream",
          "text": [
            "INFO:numexpr.utils:NumExpr defaulting to 2 threads.\n"
          ],
          "name": "stderr"
        },
        {
          "output_type": "execute_result",
          "data": {
            "text/plain": [
              "321     300\n",
              "399     201\n",
              "2654    356\n",
              "3511    250\n",
              "3512    260\n",
              "3531    580\n",
              "3533    250\n",
              "3692    320\n",
              "Name: Response, dtype: int64"
            ]
          },
          "metadata": {
            "tags": []
          },
          "execution_count": 6
        }
      ]
    },
    {
      "cell_type": "code",
      "metadata": {
        "colab": {
          "base_uri": "https://localhost:8080/"
        },
        "id": "97vrvthmhxDZ",
        "outputId": "6d68a05e-90bf-46f9-8588-1ea3a3da3b20"
      },
      "source": [
        "y[y<20]"
      ],
      "execution_count": 8,
      "outputs": [
        {
          "output_type": "execute_result",
          "data": {
            "text/plain": [
              "183     18\n",
              "186     17\n",
              "300     12\n",
              "345      7\n",
              "364      7\n",
              "386      7\n",
              "451      5\n",
              "732     15\n",
              "752     15\n",
              "826      6\n",
              "1221     4\n",
              "1512    19\n",
              "1528    19\n",
              "1558    19\n",
              "1929     6\n",
              "2000     6\n",
              "2031    12\n",
              "2042     4\n",
              "2678     6\n",
              "2687     8\n",
              "2844    19\n",
              "2952    15\n",
              "3063    12\n",
              "3193     0\n",
              "3277     5\n",
              "3669    15\n",
              "3670     2\n",
              "3671     3\n",
              "3675    15\n",
              "3680    15\n",
              "3681    15\n",
              "3682    15\n",
              "3683    15\n",
              "3694    15\n",
              "3709    15\n",
              "Name: Response, dtype: int64"
            ]
          },
          "metadata": {
            "tags": []
          },
          "execution_count": 8
        }
      ]
    },
    {
      "cell_type": "markdown",
      "metadata": {
        "id": "f38OhuMIiWqm"
      },
      "source": [
        "Baseline 1: Mean"
      ]
    },
    {
      "cell_type": "code",
      "metadata": {
        "colab": {
          "base_uri": "https://localhost:8080/",
          "height": 300
        },
        "id": "YA35sr9lRz6o",
        "outputId": "1076b755-0424-43ac-a8d6-959095df11b4"
      },
      "source": [
        "mean_response = []\n",
        "for i in [50,60,70,80,90,100]:\n",
        "  mean_response.append(y[theta==i].mean())\n",
        "\n",
        "plt.scatter(mean_response,[50,60,70,80,90,100])\n",
        "plt.xlabel(\"Mean\")\n",
        "plt.ylabel(\"Truth\")\n",
        "plt.xlim(30,110)\n",
        "plt.ylim(30,110)\n",
        "xpoints = ypoints = plt.xlim()\n",
        "plt.plot(xpoints, ypoints, linestyle='--', color='k', lw=2, scalex=False, scaley=False, alpha = .5)\n"
      ],
      "execution_count": 9,
      "outputs": [
        {
          "output_type": "execute_result",
          "data": {
            "text/plain": [
              "[<matplotlib.lines.Line2D at 0x7f53525f3190>]"
            ]
          },
          "metadata": {
            "tags": []
          },
          "execution_count": 9
        },
        {
          "output_type": "display_data",
          "data": {
            "image/png": "[encoded data removed]",
            "text/plain": [
              "<Figure size 432x288 with 1 Axes>"
            ]
          },
          "metadata": {
            "tags": [],
            "needs_background": "light"
          }
        }
      ]
    },
    {
      "cell_type": "markdown",
      "metadata": {
        "id": "aGZLD_pVibGf"
      },
      "source": [
        "Baseline 2: Median"
      ]
    },
    {
      "cell_type": "code",
      "metadata": {
        "colab": {
          "base_uri": "https://localhost:8080/",
          "height": 300
        },
        "id": "lcIptVBDSVcl",
        "outputId": "d5cd0cb9-168b-4b8c-d86a-fedab3dd23f0"
      },
      "source": [
        "median_response = []\n",
        "for i in [50,60,70,80,90,100]:\n",
        "  median_response.append(y[theta==i].median())\n",
        "\n",
        "plt.scatter(median_response,[50,60,70,80,90,100])\n",
        "plt.xlabel(\"Median\")\n",
        "plt.ylabel(\"Truth\")\n",
        "plt.xlim(30,120)\n",
        "plt.ylim(30,120)\n",
        "xpoints = ypoints = plt.xlim()\n",
        "plt.plot(xpoints, ypoints, linestyle='--', color='k', lw=2, scalex=False, scaley=False, alpha = .5)\n"
      ],
      "execution_count": 10,
      "outputs": [
        {
          "output_type": "execute_result",
          "data": {
            "text/plain": [
              "[<matplotlib.lines.Line2D at 0x7f535291e6d0>]"
            ]
          },
          "metadata": {
            "tags": []
          },
          "execution_count": 10
        },
        {
          "output_type": "display_data",
          "data": {
            "image/png": "[encoded data removed]",
            "text/plain": [
              "<Figure size 432x288 with 1 Axes>"
            ]
          },
          "metadata": {
            "tags": [],
            "needs_background": "light"
          }
        }
      ]
    },
    {
      "cell_type": "markdown",
      "metadata": {
        "id": "lo4i3Y7Rih3U"
      },
      "source": [
        "RMSE for each question"
      ]
    },
    {
      "cell_type": "code",
      "metadata": {
        "colab": {
          "base_uri": "https://localhost:8080/",
          "height": 282
        },
        "id": "aEBMS6FLgBG1",
        "outputId": "d64b45f8-eaa7-457f-dc15-38cde0f72a28"
      },
      "source": [
        "#63 participants, 60 trials each\n",
        "#RMSE for each question\n",
        "y_matrix = np.asmatrix(y.values.reshape(I,J))\n",
        "theta_matrix = np.asmatrix(theta.values.reshape(I,J))\n",
        "RMSE = np.square(y.values.reshape(I,J) - theta.values.reshape(I,J)).mean(axis =0)\n",
        "RMSE = RMSE.tolist()\n",
        "plt.scatter(RMSE, np.linspace(1,60,60))"
      ],
      "execution_count": 11,
      "outputs": [
        {
          "output_type": "execute_result",
          "data": {
            "text/plain": [
              "<matplotlib.collections.PathCollection at 0x7f53520b8e50>"
            ]
          },
          "metadata": {
            "tags": []
          },
          "execution_count": 11
        },
        {
          "output_type": "display_data",
          "data": {
            "image/png": "[encoded data removed]",
            "text/plain": [
              "<Figure size 432x288 with 1 Axes>"
            ]
          },
          "metadata": {
            "tags": [],
            "needs_background": "light"
          }
        }
      ]
    },
    {
      "cell_type": "code",
      "metadata": {
        "colab": {
          "base_uri": "https://localhost:8080/",
          "height": 285
        },
        "id": "0hpW1cgHjt5a",
        "outputId": "a4c2954d-925a-47df-a332-c5a4886cb65b"
      },
      "source": [
        "WOC = np.square(y.values.reshape(I,J) - theta.values.reshape(I,J)).mean(axis =1)\n",
        "plt.scatter(np.linspace(1,63,63), WOC)"
      ],
      "execution_count": null,
      "outputs": [
        {
          "output_type": "execute_result",
          "data": {
            "text/plain": [
              "<matplotlib.collections.PathCollection at 0x7f5b5d4b14d0>"
            ]
          },
          "metadata": {
            "tags": []
          },
          "execution_count": 9
        },
        {
          "output_type": "display_data",
          "data": {
            "image/png": "[encoded data removed]",
            "text/plain": [
              "<Figure size 432x288 with 1 Axes>"
            ]
          },
          "metadata": {
            "tags": [],
            "needs_background": "light"
          }
        }
      ]
    },
    {
      "cell_type": "markdown",
      "metadata": {
        "id": "BBOCp6pU2zHF"
      },
      "source": [
        "Simple Model - Exchangeable participants"
      ]
    },
    {
      "cell_type": "code",
      "metadata": {
        "id": "yuDpiVwG_TqA"
      },
      "source": [
        "#No people, N questions\n",
        "\n",
        "model1 = \"\"\"\n",
        "data {\n",
        "  int<lower=0> N; //Number of questions\n",
        "  real y[N];\n",
        "}\n",
        "parameters{\n",
        "  real<lower=0> psi;\n",
        "  real<lower=0> mu;\n",
        "}\n",
        "model{\n",
        "  target += normal_lpdf(psi | 0, 5);       // prior log-density\n",
        "  target += normal_lpdf(mu | 75, 25); //\n",
        "  target += normal_lpdf(y | mu, psi); // log-likelihood\n",
        "}\n",
        "\"\"\""
      ],
      "execution_count": 18,
      "outputs": []
    },
    {
      "cell_type": "code",
      "metadata": {
        "colab": {
          "base_uri": "https://localhost:8080/",
          "height": 626
        },
        "id": "x5dYhi60U28Q",
        "outputId": "13eaaf35-f444-4ecb-a6a5-503501dc7bad"
      },
      "source": [
        "model1_response = []\n",
        "for value in [50,60,70,80,90,100]:\n",
        "  data_model1= {\"N\":I*10, \"y\":y[theta==value]}\n",
        "  fit = pystan.stan(model_code=model1, data=data_model1, iter=1000, chains=4)\n",
        "  model1_response.append(fit['mu'].mean())\n",
        "  print(model1_response)\n"
      ],
      "execution_count": 19,
      "outputs": [
        {
          "output_type": "stream",
          "text": [
            "WARNING:pystan:DeprecationWarning: pystan.stan was deprecated in version 2.17 and will be removed in version 3.0. Compile and use a Stan program in separate steps.\n",
            "INFO:pystan:COMPILING THE C++ CODE FOR MODEL anon_model_d56749921de37503e552ce9219ab52d9 NOW.\n",
            "WARNING:pystan:DeprecationWarning: pystan.stan was deprecated in version 2.17 and will be removed in version 3.0. Compile and use a Stan program in separate steps.\n",
            "INFO:pystan:COMPILING THE C++ CODE FOR MODEL anon_model_d56749921de37503e552ce9219ab52d9 NOW.\n"
          ],
          "name": "stderr"
        },
        {
          "output_type": "stream",
          "text": [
            "[42.94804185342009]\n"
          ],
          "name": "stdout"
        },
        {
          "output_type": "stream",
          "text": [
            "WARNING:pystan:DeprecationWarning: pystan.stan was deprecated in version 2.17 and will be removed in version 3.0. Compile and use a Stan program in separate steps.\n",
            "INFO:pystan:COMPILING THE C++ CODE FOR MODEL anon_model_d56749921de37503e552ce9219ab52d9 NOW.\n"
          ],
          "name": "stderr"
        },
        {
          "output_type": "stream",
          "text": [
            "[42.94804185342009, 50.73208075532183]\n"
          ],
          "name": "stdout"
        },
        {
          "output_type": "stream",
          "text": [
            "WARNING:pystan:DeprecationWarning: pystan.stan was deprecated in version 2.17 and will be removed in version 3.0. Compile and use a Stan program in separate steps.\n",
            "INFO:pystan:COMPILING THE C++ CODE FOR MODEL anon_model_d56749921de37503e552ce9219ab52d9 NOW.\n"
          ],
          "name": "stderr"
        },
        {
          "output_type": "stream",
          "text": [
            "[42.94804185342009, 50.73208075532183, 56.76361906619385]\n"
          ],
          "name": "stdout"
        },
        {
          "output_type": "stream",
          "text": [
            "WARNING:pystan:DeprecationWarning: pystan.stan was deprecated in version 2.17 and will be removed in version 3.0. Compile and use a Stan program in separate steps.\n",
            "INFO:pystan:COMPILING THE C++ CODE FOR MODEL anon_model_d56749921de37503e552ce9219ab52d9 NOW.\n"
          ],
          "name": "stderr"
        },
        {
          "output_type": "stream",
          "text": [
            "[42.94804185342009, 50.73208075532183, 56.76361906619385, 64.01640550927355]\n"
          ],
          "name": "stdout"
        },
        {
          "output_type": "stream",
          "text": [
            "WARNING:pystan:DeprecationWarning: pystan.stan was deprecated in version 2.17 and will be removed in version 3.0. Compile and use a Stan program in separate steps.\n",
            "INFO:pystan:COMPILING THE C++ CODE FOR MODEL anon_model_d56749921de37503e552ce9219ab52d9 NOW.\n"
          ],
          "name": "stderr"
        },
        {
          "output_type": "stream",
          "text": [
            "[42.94804185342009, 50.73208075532183, 56.76361906619385, 64.01640550927355, 70.37357944515193]\n",
            "[42.94804185342009, 50.73208075532183, 56.76361906619385, 64.01640550927355, 70.37357944515193, 78.56320773400836]\n"
          ],
          "name": "stdout"
        },
        {
          "output_type": "execute_result",
          "data": {
            "text/plain": [
              "[<matplotlib.lines.Line2D at 0x7f5351039750>]"
            ]
          },
          "metadata": {
            "tags": []
          },
          "execution_count": 19
        },
        {
          "output_type": "display_data",
          "data": {
            "image/png": "[encoded data removed]",
            "text/plain": [
              "<Figure size 432x288 with 1 Axes>"
            ]
          },
          "metadata": {
            "tags": [],
            "needs_background": "light"
          }
        }
      ]
    },
    {
      "cell_type": "code",
      "metadata": {
        "colab": {
          "base_uri": "https://localhost:8080/",
          "height": 300
        },
        "id": "lYS2pwuAmqiG",
        "outputId": "b0be55e6-dbb8-459e-889c-56a230e6b127"
      },
      "source": [
        "plt.scatter(model1_response,[50,60,70,80,90,100], label = \"Model1\")\n",
        "plt.scatter(median_response,[50,60,70,80,90,100], label = \"median\")\n",
        "plt.xlabel(\"Model1\")\n",
        "plt.ylabel(\"Truth\")\n",
        "plt.xlim(30,110)\n",
        "plt.ylim(30,110)\n",
        "xpoints = ypoints = plt.xlim()\n",
        "plt.legend()\n",
        "plt.plot(xpoints, ypoints, linestyle='--', color='k', lw=2, scalex=False, scaley=False, alpha = .5)\n"
      ],
      "execution_count": 21,
      "outputs": [
        {
          "output_type": "execute_result",
          "data": {
            "text/plain": [
              "[<matplotlib.lines.Line2D at 0x7f5350785450>]"
            ]
          },
          "metadata": {
            "tags": []
          },
          "execution_count": 21
        },
        {
          "output_type": "display_data",
          "data": {
            "image/png": "[encoded data removed]",
            "text/plain": [
              "<Figure size 432x288 with 1 Axes>"
            ]
          },
          "metadata": {
            "tags": [],
            "needs_background": "light"
          }
        }
      ]
    },
    {
      "cell_type": "markdown",
      "metadata": {
        "id": "R6E2bMz4l6jc"
      },
      "source": [
        "Model 2: Merkle Saw Stober Model"
      ]
    },
    {
      "cell_type": "code",
      "metadata": {
        "id": "ECeXzEAq0TYV"
      },
      "source": [
        "#I people, J questions\n",
        "\n",
        "model2_code = \"\"\"\n",
        "data {\n",
        "  int<lower=0> I; //Number of people\n",
        "  int<lower=0> J; //Number of questions\n",
        "  matrix<lower=0>[I,J] y; //response of person i on question j\n",
        "}\n",
        "parameters{\n",
        "  vector<lower=0>[I] psi; \n",
        "  vector<lower=0>[I] lambda;\n",
        "  real<lower=0> theta;\n",
        "}\n",
        "transformed parameters{\n",
        "  matrix<lower=0>[I,J] mu;\n",
        "  for(i in 1:I)\n",
        "    for(j in 1:J)\n",
        "      mu[i,j] = lambda[i]*theta;\n",
        "}\n",
        "model{\n",
        "  psi ~ cauchy(0,1);\n",
        "  lambda ~ normal(1, .2);\n",
        "  theta ~ normal(75,10);\n",
        "  for(i in 1:I)\n",
        "    for(j in 1:J){\n",
        "      y[i,j] ~ normal(mu[i,j], psi[i]);\n",
        "      }\n",
        "}\n",
        "\"\"\""
      ],
      "execution_count": 45,
      "outputs": []
    },
    {
      "cell_type": "code",
      "metadata": {
        "id": "zsDLh_7pU2y-",
        "colab": {
          "base_uri": "https://localhost:8080/"
        },
        "outputId": "d6ba16ea-8cda-4f21-be99-e76b8671b688"
      },
      "source": [
        "model2_theta = []\n",
        "for i in [50,60,70,80,90,100]:\n",
        "  stim = y[theta==i].values\n",
        "  data_model2  = {\"I\":I, \"J\": 10,\"y\":stim.reshape(I,10)}\n",
        "  model2 = pystan.StanModel(model_code=model2_code)\n",
        "  fit_model2 = model2.sampling(data=data_model2, chains=4, seed=111)\n",
        "  model2_theta.append(fit_model2['theta'].mean())\n",
        "  print(fit_model2['lambda'].mean())\n",
        "  print(fit_model2['theta'].mean())\n",
        "\n",
        "\n"
      ],
      "execution_count": 46,
      "outputs": [
        {
          "output_type": "stream",
          "text": [
            "INFO:pystan:COMPILING THE C++ CODE FOR MODEL anon_model_1146095350da4fb0a7662e08d18a9d70 NOW.\n",
            "INFO:pystan:COMPILING THE C++ CODE FOR MODEL anon_model_1146095350da4fb0a7662e08d18a9d70 NOW.\n"
          ],
          "name": "stderr"
        },
        {
          "output_type": "stream",
          "text": [
            "0.9636907332358056\n",
            "43.44249933924166\n"
          ],
          "name": "stdout"
        },
        {
          "output_type": "stream",
          "text": [
            "INFO:pystan:COMPILING THE C++ CODE FOR MODEL anon_model_1146095350da4fb0a7662e08d18a9d70 NOW.\n"
          ],
          "name": "stderr"
        },
        {
          "output_type": "stream",
          "text": [
            "0.9641292318299768\n",
            "50.69023923085313\n"
          ],
          "name": "stdout"
        },
        {
          "output_type": "stream",
          "text": [
            "WARNING:pystan:n_eff / iter below 0.001 indicates that the effective sample size has likely been overestimated\n",
            "WARNING:pystan:Rhat above 1.1 or below 0.9 indicates that the chains very likely have not mixed\n",
            "WARNING:pystan:133 of 4000 iterations ended with a divergence (3.33 %).\n",
            "WARNING:pystan:Try running with adapt_delta larger than 0.8 to remove the divergences.\n",
            "WARNING:pystan:3867 of 4000 iterations saturated the maximum tree depth of 10 (96.7 %)\n",
            "WARNING:pystan:Run again with max_treedepth larger than 10 to avoid saturation\n",
            "INFO:pystan:COMPILING THE C++ CODE FOR MODEL anon_model_1146095350da4fb0a7662e08d18a9d70 NOW.\n"
          ],
          "name": "stderr"
        },
        {
          "output_type": "stream",
          "text": [
            "0.977553086851483\n",
            "56.77555090121882\n"
          ],
          "name": "stdout"
        },
        {
          "output_type": "stream",
          "text": [
            "INFO:pystan:COMPILING THE C++ CODE FOR MODEL anon_model_1146095350da4fb0a7662e08d18a9d70 NOW.\n"
          ],
          "name": "stderr"
        },
        {
          "output_type": "stream",
          "text": [
            "0.9644250840523927\n",
            "65.33791912561182\n"
          ],
          "name": "stdout"
        },
        {
          "output_type": "stream",
          "text": [
            "INFO:pystan:COMPILING THE C++ CODE FOR MODEL anon_model_1146095350da4fb0a7662e08d18a9d70 NOW.\n"
          ],
          "name": "stderr"
        },
        {
          "output_type": "stream",
          "text": [
            "0.9658874101139063\n",
            "71.69704087967916\n",
            "0.9627807568576298\n",
            "79.82200435172773\n"
          ],
          "name": "stdout"
        }
      ]
    },
    {
      "cell_type": "code",
      "metadata": {
        "colab": {
          "base_uri": "https://localhost:8080/",
          "height": 300
        },
        "id": "pAZJwQH422Tc",
        "outputId": "175b5b90-3491-4783-81e4-1cbb554c9977"
      },
      "source": [
        "plt.scatter(model2_theta,[50,60,70,80,90,100], label = \"Model2\")\n",
        "plt.scatter(median_response,[50,60,70,80,90,100], label = \"median\")\n",
        "plt.xlabel(\"Model2\")\n",
        "plt.ylabel(\"Truth\")\n",
        "plt.xlim(40,110)\n",
        "plt.ylim(40,110)\n",
        "xpoints = ypoints = plt.xlim()\n",
        "plt.legend()\n",
        "plt.plot(xpoints, ypoints, linestyle='--', color='k', lw=2, scalex=False, scaley=False, alpha = .5)\n"
      ],
      "execution_count": 47,
      "outputs": [
        {
          "output_type": "execute_result",
          "data": {
            "text/plain": [
              "[<matplotlib.lines.Line2D at 0x7f533f0f44d0>]"
            ]
          },
          "metadata": {
            "tags": []
          },
          "execution_count": 47
        },
        {
          "output_type": "display_data",
          "data": {
            "image/png": "[encoded data removed]",
            "text/plain": [
              "<Figure size 432x288 with 1 Axes>"
            ]
          },
          "metadata": {
            "tags": [],
            "needs_background": "light"
          }
        }
      ]
    },
    {
      "cell_type": "markdown",
      "metadata": {
        "id": "qFM7LOE6l_1_"
      },
      "source": [
        "Model 3: Merkle Saw Stober with delta"
      ]
    },
    {
      "cell_type": "code",
      "metadata": {
        "id": "-K8WEujqr6S2"
      },
      "source": [
        "#I people, J questions\n",
        "\n",
        "model3_code = \"\"\"\n",
        "data {\n",
        "  int<lower=0> I; //Number of people\n",
        "  int<lower=0> J; //Number of questions\n",
        "  matrix<lower=0>[I,J] y; //response of person i on question j\n",
        "}\n",
        "parameters{\n",
        "  vector<lower=0>[I] psi; \n",
        "  vector<lower=0>[I] lambda;\n",
        "  real<lower=0> delta[I];\n",
        "  real<lower=0> theta;\n",
        "}\n",
        "transformed parameters{\n",
        "  matrix<lower=0>[I,J] mu;\n",
        "  for(i in 1:I)\n",
        "    for(j in 1:J)\n",
        "      mu[i,j] = lambda[i]*theta + delta[i];\n",
        "}\n",
        "model{\n",
        "  psi ~ gamma(2,2);\n",
        "  lambda ~ gamma(1, 1);\n",
        "  theta ~ normal(75,10);\n",
        "  delta ~ normal(0,3);\n",
        "  for(i in 1:I)\n",
        "    for(j in 1:J){\n",
        "      y[i,j] ~ normal(mu[i,j], psi[i]);\n",
        "      }\n",
        "}\n",
        "\"\"\"\n"
      ],
      "execution_count": 42,
      "outputs": []
    },
    {
      "cell_type": "code",
      "metadata": {
        "colab": {
          "base_uri": "https://localhost:8080/"
        },
        "id": "kuNikfG_sSOJ",
        "outputId": "88fdc4e4-f0bd-4295-ff9b-8e538d3af554"
      },
      "source": [
        "model3_theta = []\n",
        "for i in [50,60,70,80,90,100]:\n",
        "  stim = y[theta==i].values\n",
        "  data_model3  = {\"I\":I, \"J\": 10,\"y\":stim.reshape(I,10)}\n",
        "  model3 = pystan.StanModel(model_code=model3_code)\n",
        "  fit_model3 = model3.sampling(data=data_model3, chains=4, seed=111)\n",
        "  model3_theta.append(fit_model3['theta'].mean())\n",
        "  print(fit_model3['theta'].mean())\n",
        "\n",
        "\n"
      ],
      "execution_count": 43,
      "outputs": [
        {
          "output_type": "stream",
          "text": [
            "INFO:pystan:COMPILING THE C++ CODE FOR MODEL anon_model_c2c80393950f64ce2b962141903451e4 NOW.\n",
            "WARNING:pystan:4 of 4000 iterations ended with a divergence (0.1 %).\n",
            "WARNING:pystan:Try running with adapt_delta larger than 0.8 to remove the divergences.\n",
            "INFO:pystan:COMPILING THE C++ CODE FOR MODEL anon_model_c2c80393950f64ce2b962141903451e4 NOW.\n"
          ],
          "name": "stderr"
        },
        {
          "output_type": "stream",
          "text": [
            "52.10162211249217\n"
          ],
          "name": "stdout"
        },
        {
          "output_type": "stream",
          "text": [
            "WARNING:pystan:12 of 4000 iterations ended with a divergence (0.3 %).\n",
            "WARNING:pystan:Try running with adapt_delta larger than 0.8 to remove the divergences.\n",
            "INFO:pystan:COMPILING THE C++ CODE FOR MODEL anon_model_c2c80393950f64ce2b962141903451e4 NOW.\n"
          ],
          "name": "stderr"
        },
        {
          "output_type": "stream",
          "text": [
            "58.335456507628145\n"
          ],
          "name": "stdout"
        },
        {
          "output_type": "stream",
          "text": [
            "WARNING:pystan:n_eff / iter below 0.001 indicates that the effective sample size has likely been overestimated\n",
            "WARNING:pystan:Rhat above 1.1 or below 0.9 indicates that the chains very likely have not mixed\n",
            "WARNING:pystan:169 of 4000 iterations ended with a divergence (4.22 %).\n",
            "WARNING:pystan:Try running with adapt_delta larger than 0.8 to remove the divergences.\n",
            "WARNING:pystan:3831 of 4000 iterations saturated the maximum tree depth of 10 (95.8 %)\n",
            "WARNING:pystan:Run again with max_treedepth larger than 10 to avoid saturation\n",
            "INFO:pystan:COMPILING THE C++ CODE FOR MODEL anon_model_c2c80393950f64ce2b962141903451e4 NOW.\n"
          ],
          "name": "stderr"
        },
        {
          "output_type": "stream",
          "text": [
            "62.59936702465319\n"
          ],
          "name": "stdout"
        },
        {
          "output_type": "stream",
          "text": [
            "INFO:pystan:COMPILING THE C++ CODE FOR MODEL anon_model_c2c80393950f64ce2b962141903451e4 NOW.\n"
          ],
          "name": "stderr"
        },
        {
          "output_type": "stream",
          "text": [
            "67.60809203344388\n"
          ],
          "name": "stdout"
        },
        {
          "output_type": "stream",
          "text": [
            "INFO:pystan:COMPILING THE C++ CODE FOR MODEL anon_model_c2c80393950f64ce2b962141903451e4 NOW.\n"
          ],
          "name": "stderr"
        },
        {
          "output_type": "stream",
          "text": [
            "72.61347924014476\n"
          ],
          "name": "stdout"
        },
        {
          "output_type": "stream",
          "text": [
            "WARNING:pystan:2 of 4000 iterations ended with a divergence (0.05 %).\n",
            "WARNING:pystan:Try running with adapt_delta larger than 0.8 to remove the divergences.\n"
          ],
          "name": "stderr"
        },
        {
          "output_type": "stream",
          "text": [
            "75.64806659810777\n"
          ],
          "name": "stdout"
        }
      ]
    },
    {
      "cell_type": "code",
      "metadata": {
        "colab": {
          "base_uri": "https://localhost:8080/",
          "height": 300
        },
        "id": "xZaBOhWeieFf",
        "outputId": "ed8e9194-32cb-45e5-d350-1b5e8a08f46f"
      },
      "source": [
        "plt.scatter(model3_theta,[50,60,70,80,90,100], label = \"Model3\")\n",
        "plt.scatter(median_response,[50,60,70,80,90,100], label = \"median\")\n",
        "plt.xlabel(\"Model3\")\n",
        "plt.ylabel(\"Truth\")\n",
        "plt.xlim(40,110)\n",
        "plt.ylim(40,110)\n",
        "xpoints = ypoints = plt.xlim()\n",
        "plt.legend()\n",
        "plt.plot(xpoints, ypoints, linestyle='--', color='k', lw=2, scalex=False, scaley=False, alpha = .5)\n"
      ],
      "execution_count": 44,
      "outputs": [
        {
          "output_type": "execute_result",
          "data": {
            "text/plain": [
              "[<matplotlib.lines.Line2D at 0x7f5347095650>]"
            ]
          },
          "metadata": {
            "tags": []
          },
          "execution_count": 44
        },
        {
          "output_type": "display_data",
          "data": {
            "image/png": "[encoded data removed]",
            "text/plain": [
              "<Figure size 432x288 with 1 Axes>"
            ]
          },
          "metadata": {
            "tags": [],
            "needs_background": "light"
          }
        }
      ]
    },
    {
      "cell_type": "code",
      "metadata": {
        "id": "9IQh66I0i9rB"
      },
      "source": [
        "#I people, J questions\n",
        "\n",
        "model4_code = \"\"\"\n",
        "data {\n",
        "  int<lower=0> I; //Number of people\n",
        "  int<lower=0> J; //Number of questions\n",
        "  matrix<lower=0>[I,J] y; //response of person i on question j\n",
        "}\n",
        "parameters{\n",
        "  real<lower=0> psisq; \n",
        "  vector<lower=0>[I] lambda;\n",
        "  real<lower=0> theta;\n",
        "}\n",
        "transformed parameters{\n",
        "  real<lower=0> psi;\n",
        "  vector<lower=0>[I] mu;\n",
        "  for(i in 1:I)\n",
        "    mu[i] = lambda[i]*theta;\n",
        "  psi = sqrt(psisq);\n",
        "}\n",
        "model{\n",
        "  psisq ~ inv_gamma(1,1);\n",
        "  lambda ~ normal(1, .2);\n",
        "  theta ~ normal(75,30);\n",
        "  for(i in 1:I)\n",
        "    y[i] ~ normal(mu[i], psi);\n",
        "}\n",
        "\"\"\""
      ],
      "execution_count": null,
      "outputs": []
    },
    {
      "cell_type": "code",
      "metadata": {
        "colab": {
          "base_uri": "https://localhost:8080/"
        },
        "id": "7SgDAPVLp8KF",
        "outputId": "8701b166-004f-41aa-c152-2e4b2f7d37c3"
      },
      "source": [
        "model4_theta = []\n",
        "for i in [50,60,70,80,90,100]:\n",
        "  stim = y[theta==i].values.reshape(I,10)\n",
        "  data_model4  = {\"I\":I, \"J\":10, \"y\":stim}\n",
        "  model4 = pystan.StanModel(model_code=model4_code)\n",
        "  fit_model4 = model4.sampling(data=data_model4, chains=4, seed=111)\n",
        "  model4_theta.append(fit_model4['theta'].mean())"
      ],
      "execution_count": null,
      "outputs": [
        {
          "output_type": "stream",
          "text": [
            "INFO:pystan:COMPILING THE C++ CODE FOR MODEL anon_model_fdb9d3796158169ee87bed8a9bcd377b NOW.\n",
            "INFO:pystan:COMPILING THE C++ CODE FOR MODEL anon_model_fdb9d3796158169ee87bed8a9bcd377b NOW.\n",
            "INFO:pystan:COMPILING THE C++ CODE FOR MODEL anon_model_fdb9d3796158169ee87bed8a9bcd377b NOW.\n",
            "INFO:pystan:COMPILING THE C++ CODE FOR MODEL anon_model_fdb9d3796158169ee87bed8a9bcd377b NOW.\n",
            "INFO:pystan:COMPILING THE C++ CODE FOR MODEL anon_model_fdb9d3796158169ee87bed8a9bcd377b NOW.\n",
            "INFO:pystan:COMPILING THE C++ CODE FOR MODEL anon_model_fdb9d3796158169ee87bed8a9bcd377b NOW.\n"
          ],
          "name": "stderr"
        }
      ]
    },
    {
      "cell_type": "code",
      "metadata": {
        "colab": {
          "base_uri": "https://localhost:8080/",
          "height": 301
        },
        "id": "pdOHZ5Pgquzk",
        "outputId": "046565f1-4799-4ccf-e3be-a7b5a626ca91"
      },
      "source": [
        "plt.scatter(model4_theta,[50,60,70,80,90,100], label = \"Model4\")\n",
        "plt.scatter(median_response,[50,60,70,80,90,100], label = \"median\")\n",
        "plt.xlabel(\"Model4\")\n",
        "plt.ylabel(\"Truth\")\n",
        "plt.xlim(40,110)\n",
        "plt.ylim(40,110)\n",
        "xpoints = ypoints = plt.xlim()\n",
        "plt.legend()\n",
        "plt.plot(xpoints, ypoints, linestyle='--', color='k', lw=2, scalex=False, scaley=False, alpha = .5)\n"
      ],
      "execution_count": null,
      "outputs": [
        {
          "output_type": "execute_result",
          "data": {
            "text/plain": [
              "[<matplotlib.lines.Line2D at 0x7f5b596fa850>]"
            ]
          },
          "metadata": {
            "tags": []
          },
          "execution_count": 35
        },
        {
          "output_type": "display_data",
          "data": {
            "image/png": "[encoded data removed]",
            "text/plain": [
              "<Figure size 432x288 with 1 Axes>"
            ]
          },
          "metadata": {
            "tags": [],
            "needs_background": "light"
          }
        }
      ]
    },
    {
      "cell_type": "code",
      "metadata": {
        "id": "WOgf7CceK3g3"
      },
      "source": [
        "#I people, J questions\n",
        "\n",
        "model8_code = \"\"\"\n",
        "data {\n",
        "  int<lower=0> I; //Number of people\n",
        "  int<lower=0> J; //Number of questions\n",
        "  matrix<lower=0>[I,J] y; //response of person i on question j\n",
        "}\n",
        "parameters{\n",
        "  real<lower=0> psisq; \n",
        "  vector<lower=0>[I] lambda; \n",
        "  real<lower=0> theta;\n",
        "}\n",
        "transformed parameters{\n",
        "  real<lower=0> psi;\n",
        "  vector<lower=0>[I] mu;\n",
        "  for(i in 1:I)\n",
        "    mu[i] = lambda[i]*log(theta);\n",
        "  psi = sqrt(psisq);\n",
        "}\n",
        "model{\n",
        "  psisq ~ inv_gamma(1,1);\n",
        "  lambda ~ normal(10, 5);\n",
        "  theta ~ normal(75,30);\n",
        "  for(i in 1:I)\n",
        "    y[i] ~ normal(mu[i], psi);\n",
        "}\n",
        "\"\"\"\n",
        "\n",
        "\n",
        "# target += normal_lpdf(psi | 0, 1);       // prior log-density\n",
        "# target += normal_lpdf(lambda | 0, 1);       // prior log-density\n",
        "# target += normal_lpdf(delta | 0, 1);       // prior log-density\n",
        "# target += normal_lpdf(y | mu, psi); // log-likelihood "
      ],
      "execution_count": 48,
      "outputs": []
    },
    {
      "cell_type": "code",
      "metadata": {
        "colab": {
          "base_uri": "https://localhost:8080/"
        },
        "id": "5Ia5GRfPLCYz",
        "outputId": "89fbd312-34b5-47c8-e6ec-35a00d512d7c"
      },
      "source": [
        "model8_theta = []\n",
        "for i in [50,60,70,80,90,100]:\n",
        "  stim = y[theta==i].values.reshape(I,10)\n",
        "  data_model8  = {\"I\":I, \"J\":10, \"y\":stim}\n",
        "  model8 = pystan.StanModel(model_code=model8_code)\n",
        "  fit_model8 = model8.sampling(data=data_model8, chains=4, seed=111)\n",
        "  model8_theta.append(fit_model8['theta'].mean())\n",
        "  print(fit_model8['theta'].mean())\n",
        "\n"
      ],
      "execution_count": 49,
      "outputs": [
        {
          "output_type": "stream",
          "text": [
            "INFO:pystan:COMPILING THE C++ CODE FOR MODEL anon_model_f2ceb3a2387fe437e981fcc27e57adef NOW.\n",
            "INFO:pystan:COMPILING THE C++ CODE FOR MODEL anon_model_f2ceb3a2387fe437e981fcc27e57adef NOW.\n"
          ],
          "name": "stderr"
        },
        {
          "output_type": "stream",
          "text": [
            "50.601485965334724\n"
          ],
          "name": "stdout"
        },
        {
          "output_type": "stream",
          "text": [
            "INFO:pystan:COMPILING THE C++ CODE FOR MODEL anon_model_f2ceb3a2387fe437e981fcc27e57adef NOW.\n"
          ],
          "name": "stderr"
        },
        {
          "output_type": "stream",
          "text": [
            "92.03058323814574\n"
          ],
          "name": "stdout"
        },
        {
          "output_type": "stream",
          "text": [
            "INFO:pystan:COMPILING THE C++ CODE FOR MODEL anon_model_f2ceb3a2387fe437e981fcc27e57adef NOW.\n"
          ],
          "name": "stderr"
        },
        {
          "output_type": "stream",
          "text": [
            "118.00071426698534\n"
          ],
          "name": "stdout"
        },
        {
          "output_type": "stream",
          "text": [
            "INFO:pystan:COMPILING THE C++ CODE FOR MODEL anon_model_f2ceb3a2387fe437e981fcc27e57adef NOW.\n"
          ],
          "name": "stderr"
        },
        {
          "output_type": "stream",
          "text": [
            "150.75230086505434\n"
          ],
          "name": "stdout"
        },
        {
          "output_type": "stream",
          "text": [
            "INFO:pystan:COMPILING THE C++ CODE FOR MODEL anon_model_f2ceb3a2387fe437e981fcc27e57adef NOW.\n"
          ],
          "name": "stderr"
        },
        {
          "output_type": "stream",
          "text": [
            "175.5444780850134\n",
            "207.95248566361536\n"
          ],
          "name": "stdout"
        }
      ]
    },
    {
      "cell_type": "code",
      "metadata": {
        "colab": {
          "base_uri": "https://localhost:8080/",
          "height": 300
        },
        "id": "X1fzzjJyLCSg",
        "outputId": "516a4768-f1ba-4748-a79e-87c535123388"
      },
      "source": [
        "plt.scatter(model8_theta,[50,60,70,80,90,100], label = \"Model1\")\n",
        "plt.scatter(median_response,[50,60,70,80,90,100], label = \"median\")\n",
        "plt.xlabel(\"Model8\")\n",
        "plt.ylabel(\"Truth\")\n",
        "plt.xlim(40,110)\n",
        "plt.ylim(40,110)\n",
        "xpoints = ypoints = plt.xlim()\n",
        "plt.legend()\n",
        "plt.plot(xpoints, ypoints, linestyle='--', color='k', lw=2, scalex=False, scaley=False, alpha = .5)\n"
      ],
      "execution_count": 50,
      "outputs": [
        {
          "output_type": "execute_result",
          "data": {
            "text/plain": [
              "[<matplotlib.lines.Line2D at 0x7f53510b9b50>]"
            ]
          },
          "metadata": {
            "tags": []
          },
          "execution_count": 50
        },
        {
          "output_type": "display_data",
          "data": {
            "image/png": "[encoded data removed]",
            "text/plain": [
              "<Figure size 432x288 with 1 Axes>"
            ]
          },
          "metadata": {
            "tags": [],
            "needs_background": "light"
          }
        }
      ]
    },
    {
      "cell_type": "code",
      "metadata": {
        "id": "_fCO0Ik-Yy_I"
      },
      "source": [
        "#I people, J questions\n",
        "\n",
        "model9_code = \"\"\"\n",
        "data {\n",
        "  int N;\n",
        "  vector<lower=0>[N] y; //response of person i on question j\n",
        "}\n",
        "parameters{\n",
        "  real<lower=0> psisq; \n",
        "  real<lower=0> lambda; \n",
        "  real<lower=0> theta;\n",
        "}\n",
        "transformed parameters{\n",
        "  real<lower=0> psi;\n",
        "  real<lower=0> mu;\n",
        "  mu = lambda*log(theta);\n",
        "  psi = sqrt(psisq);\n",
        "}\n",
        "model{\n",
        "  psisq ~ inv_gamma(1,1);\n",
        "  lambda ~ normal(10, 5);\n",
        "  theta ~ normal(75,30);\n",
        "  y ~ normal(mu, psi);\n",
        "}\n",
        "\"\"\"\n",
        "\n",
        "\n",
        "# target += normal_lpdf(psi | 0, 1);       // prior log-density\n",
        "# target += normal_lpdf(lambda | 0, 1);       // prior log-density\n",
        "# target += normal_lpdf(delta | 0, 1);       // prior log-density\n",
        "# target += normal_lpdf(y | mu, psi); // log-likelihood "
      ],
      "execution_count": null,
      "outputs": []
    },
    {
      "cell_type": "code",
      "metadata": {
        "colab": {
          "base_uri": "https://localhost:8080/"
        },
        "id": "kKWKiLEi7wJh",
        "outputId": "eb2378ca-84cf-4d8b-d340-bdcbe86708a3"
      },
      "source": [
        "model9_theta = []\n",
        "for i in [50,60,70,80,90,100]:\n",
        "  stim = y[theta==i].values\n",
        "  data_model9  = {\"N\":I*10, \"y\":stim}\n",
        "  model9 = pystan.StanModel(model_code=model9_code)\n",
        "  fit_model9 = model9.sampling(data=data_model9, chains=4, seed=111)\n",
        "  model9_theta.append(fit_model9['theta'].mean())\n",
        "  print(fit_model9['lambda'].mean())\n",
        "  print(fit_model9['theta'].mean())\n",
        "  print(fit_model9['psi'].mean())\n",
        "  print(fit_model9['mu'].mean())\n",
        "\n"
      ],
      "execution_count": null,
      "outputs": [
        {
          "output_type": "stream",
          "text": [
            "INFO:pystan:COMPILING THE C++ CODE FOR MODEL anon_model_8868383e95bde491fc9564ecd715c886 NOW.\n",
            "INFO:pystan:COMPILING THE C++ CODE FOR MODEL anon_model_8868383e95bde491fc9564ecd715c886 NOW.\n"
          ],
          "name": "stderr"
        },
        {
          "output_type": "stream",
          "text": [
            "10.275966205040428\n",
            "74.84276746106018\n",
            "22.868731942000426\n",
            "42.88590841463425\n"
          ],
          "name": "stdout"
        },
        {
          "output_type": "stream",
          "text": [
            "INFO:pystan:COMPILING THE C++ CODE FOR MODEL anon_model_8868383e95bde491fc9564ecd715c886 NOW.\n"
          ],
          "name": "stderr"
        },
        {
          "output_type": "stream",
          "text": [
            "11.98445213416541\n",
            "77.05058813547751\n",
            "27.56626053121921\n",
            "50.65815595275166\n"
          ],
          "name": "stdout"
        },
        {
          "output_type": "stream",
          "text": [
            "INFO:pystan:COMPILING THE C++ CODE FOR MODEL anon_model_8868383e95bde491fc9564ecd715c886 NOW.\n"
          ],
          "name": "stderr"
        },
        {
          "output_type": "stream",
          "text": [
            "13.290982510045982\n",
            "79.15226879272731\n",
            "22.42415472468755\n",
            "56.71385499052552\n"
          ],
          "name": "stdout"
        },
        {
          "output_type": "stream",
          "text": [
            "INFO:pystan:COMPILING THE C++ CODE FOR MODEL anon_model_8868383e95bde491fc9564ecd715c886 NOW.\n"
          ],
          "name": "stderr"
        },
        {
          "output_type": "stream",
          "text": [
            "14.716149344417904\n",
            "83.99034128589604\n",
            "23.65123852691026\n",
            "63.99053499142108\n"
          ],
          "name": "stdout"
        },
        {
          "output_type": "stream",
          "text": [
            "INFO:pystan:COMPILING THE C++ CODE FOR MODEL anon_model_8868383e95bde491fc9564ecd715c886 NOW.\n"
          ],
          "name": "stderr"
        },
        {
          "output_type": "stream",
          "text": [
            "16.1292263797982\n",
            "84.29210937687171\n",
            "26.26884096215719\n",
            "70.26380477160646\n",
            "17.74034752534639\n",
            "88.89788444766198\n",
            "29.95687411161317\n",
            "78.42863789999468\n"
          ],
          "name": "stdout"
        }
      ]
    },
    {
      "cell_type": "code",
      "metadata": {
        "colab": {
          "base_uri": "https://localhost:8080/"
        },
        "id": "54z4zuDAlN_J",
        "outputId": "3097eec6-fe6b-418a-ca6e-3e3a524c4d74"
      },
      "source": [
        "model9_theta"
      ],
      "execution_count": null,
      "outputs": [
        {
          "output_type": "execute_result",
          "data": {
            "text/plain": [
              "[74.84276746106018,\n",
              " 77.05058813547751,\n",
              " 79.15226879272731,\n",
              " 83.99034128589604,\n",
              " 84.29210937687171,\n",
              " 88.89788444766198]"
            ]
          },
          "metadata": {
            "tags": []
          },
          "execution_count": 41
        }
      ]
    },
    {
      "cell_type": "code",
      "metadata": {
        "colab": {
          "base_uri": "https://localhost:8080/"
        },
        "id": "SRTUMwLA7vnP",
        "outputId": "a741da77-962d-4baa-9232-8bb956b6639d"
      },
      "source": [
        "plt.scatter(model9_theta,[50,60,70,80,90,100])\n",
        "plt.xlabel(\"Model_9\")\n",
        "plt.ylabel(\"Truth\")\n",
        "plt.xlim(40,110)\n",
        "plt.ylim(40,110)\n",
        "xpoints = ypoints = plt.xlim()\n",
        "plt.plot(xpoints, ypoints, linestyle='--', color='k', lw=2, scalex=False, scaley=False, alpha = .5)\n"
      ],
      "execution_count": null,
      "outputs": [
        {
          "output_type": "execute_result",
          "data": {
            "text/plain": [
              "[<matplotlib.lines.Line2D at 0x7f5b599eddd0>]"
            ]
          },
          "metadata": {
            "tags": []
          },
          "execution_count": 42
        },
        {
          "output_type": "display_data",
          "data": {
            "image/png": "[encoded data removed]",
            "text/plain": [
              "<Figure size 432x288 with 1 Axes>"
            ]
          },
          "metadata": {
            "tags": [],
            "needs_background": "light"
          }
        }
      ]
    },
    {
      "cell_type": "code",
      "metadata": {
        "id": "srScNk2I-oJk"
      },
      "source": [
        "#I people, J questions\n",
        "\n",
        "model10_code = \"\"\"\n",
        "data {\n",
        "  int N;\n",
        "  vector<lower=0>[N] y; //response of person i on question j\n",
        "}\n",
        "parameters{\n",
        "  real<lower=0> psisq; \n",
        "  real<lower=0> lambda; \n",
        "  real<lower=0> theta;\n",
        "  real<lower=0> delta;\n",
        "}\n",
        "transformed parameters{\n",
        "  real<lower=0> psi;\n",
        "  real<lower=0> mu;\n",
        "  mu = lambda*log(theta) + delta;\n",
        "  psi = sqrt(psisq);\n",
        "}\n",
        "model{\n",
        "  delta ~ normal(0,10);\n",
        "  psisq ~ inv_gamma(1,1);\n",
        "  lambda ~ normal(10, 5);\n",
        "  theta ~ normal(75,30);\n",
        "  y ~ normal(mu, psi);\n",
        "}\n",
        "\"\"\"\n",
        "\n",
        "\n",
        "# target += normal_lpdf(psi | 0, 1);       // prior log-density\n",
        "# target += normal_lpdf(lambda | 0, 1);       // prior log-density\n",
        "# target += normal_lpdf(delta | 0, 1);       // prior log-density\n",
        "# target += normal_lpdf(y | mu, psi); // log-likelihood "
      ],
      "execution_count": null,
      "outputs": []
    },
    {
      "cell_type": "code",
      "metadata": {
        "colab": {
          "base_uri": "https://localhost:8080/"
        },
        "id": "qaSfC0Fb_Adr",
        "outputId": "2681462d-f946-4ec7-a34d-39312a461583"
      },
      "source": [
        "model10_theta = []\n",
        "for i in [50,60,70,80,90,100]:\n",
        "  stim = y[theta==i].values\n",
        "  data_model10  = {\"N\":I*10, \"y\":stim}\n",
        "  model10 = pystan.StanModel(model_code=model10_code)\n",
        "  fit_model10 = model10.sampling(data=data_model10, chains=4, seed=111)\n",
        "  model10_theta.append(fit_model10['theta'].mean())\n",
        "  print(fit_model10['lambda'].mean())\n",
        "  print(fit_model10['theta'].mean())\n",
        "  print(fit_model10['psi'].mean())\n",
        "  print(fit_model10['mu'].mean())\n",
        "\n"
      ],
      "execution_count": null,
      "outputs": [
        {
          "output_type": "stream",
          "text": [
            "INFO:pystan:COMPILING THE C++ CODE FOR MODEL anon_model_96260718f885f3064328c0c362bf310e NOW.\n",
            "WARNING:pystan:19 of 4000 iterations ended with a divergence (0.475 %).\n",
            "WARNING:pystan:Try running with adapt_delta larger than 0.8 to remove the divergences.\n",
            "INFO:pystan:COMPILING THE C++ CODE FOR MODEL anon_model_96260718f885f3064328c0c362bf310e NOW.\n"
          ],
          "name": "stderr"
        },
        {
          "output_type": "stream",
          "text": [
            "8.77688049654834\n",
            "70.34512728113343\n",
            "22.88873412973014\n",
            "42.91044465893035\n"
          ],
          "name": "stdout"
        },
        {
          "output_type": "stream",
          "text": [
            "WARNING:pystan:32 of 4000 iterations ended with a divergence (0.8 %).\n",
            "WARNING:pystan:Try running with adapt_delta larger than 0.8 to remove the divergences.\n",
            "INFO:pystan:COMPILING THE C++ CODE FOR MODEL anon_model_96260718f885f3064328c0c362bf310e NOW.\n"
          ],
          "name": "stderr"
        },
        {
          "output_type": "stream",
          "text": [
            "10.314781435315197\n",
            "73.63470813107563\n",
            "27.598624651661165\n",
            "50.681416498043575\n"
          ],
          "name": "stdout"
        },
        {
          "output_type": "stream",
          "text": [
            "WARNING:pystan:36 of 4000 iterations ended with a divergence (0.9 %).\n",
            "WARNING:pystan:Try running with adapt_delta larger than 0.8 to remove the divergences.\n",
            "INFO:pystan:COMPILING THE C++ CODE FOR MODEL anon_model_96260718f885f3064328c0c362bf310e NOW.\n"
          ],
          "name": "stderr"
        },
        {
          "output_type": "stream",
          "text": [
            "11.495245528561725\n",
            "75.26837296965167\n",
            "22.38729248735213\n",
            "56.69578485887787\n"
          ],
          "name": "stdout"
        },
        {
          "output_type": "stream",
          "text": [
            "WARNING:pystan:14 of 4000 iterations ended with a divergence (0.35 %).\n",
            "WARNING:pystan:Try running with adapt_delta larger than 0.8 to remove the divergences.\n",
            "INFO:pystan:COMPILING THE C++ CODE FOR MODEL anon_model_96260718f885f3064328c0c362bf310e NOW.\n"
          ],
          "name": "stderr"
        },
        {
          "output_type": "stream",
          "text": [
            "12.97655729274673\n",
            "78.99352341882366\n",
            "23.676792899049847\n",
            "64.01050173569679\n"
          ],
          "name": "stdout"
        },
        {
          "output_type": "stream",
          "text": [
            "WARNING:pystan:7 of 4000 iterations ended with a divergence (0.175 %).\n",
            "WARNING:pystan:Try running with adapt_delta larger than 0.8 to remove the divergences.\n",
            "INFO:pystan:COMPILING THE C++ CODE FOR MODEL anon_model_96260718f885f3064328c0c362bf310e NOW.\n"
          ],
          "name": "stderr"
        },
        {
          "output_type": "stream",
          "text": [
            "14.21458743703222\n",
            "81.07923220345971\n",
            "26.269755891096704\n",
            "70.3009984725458\n"
          ],
          "name": "stdout"
        },
        {
          "output_type": "stream",
          "text": [
            "WARNING:pystan:13 of 4000 iterations ended with a divergence (0.325 %).\n",
            "WARNING:pystan:Try running with adapt_delta larger than 0.8 to remove the divergences.\n"
          ],
          "name": "stderr"
        },
        {
          "output_type": "stream",
          "text": [
            "15.82481429603836\n",
            "84.82964834967764\n",
            "29.970490184814143\n",
            "78.47516523888\n"
          ],
          "name": "stdout"
        }
      ]
    },
    {
      "cell_type": "code",
      "metadata": {
        "colab": {
          "base_uri": "https://localhost:8080/"
        },
        "id": "b7_XRhAW_DZj",
        "outputId": "48303a51-ad19-413f-b62e-5a4d5932c1f0"
      },
      "source": [
        "plt.scatter(model10_theta,[50,60,70,80,90,100])\n",
        "plt.xlabel(\"Model_10\")\n",
        "plt.ylabel(\"Truth\")\n",
        "plt.xlim(40,110)\n",
        "plt.ylim(40,110)\n",
        "xpoints = ypoints = plt.xlim()\n",
        "plt.plot(xpoints, ypoints, linestyle='--', color='k', lw=2, scalex=False, scaley=False, alpha = .5)\n"
      ],
      "execution_count": null,
      "outputs": [
        {
          "output_type": "execute_result",
          "data": {
            "text/plain": [
              "[<matplotlib.lines.Line2D at 0x7f5b55992cd0>]"
            ]
          },
          "metadata": {
            "tags": []
          },
          "execution_count": 45
        },
        {
          "output_type": "display_data",
          "data": {
            "image/png": "[encoded data removed]",
            "text/plain": [
              "<Figure size 432x288 with 1 Axes>"
            ]
          },
          "metadata": {
            "tags": [],
            "needs_background": "light"
          }
        }
      ]
    },
    {
      "cell_type": "code",
      "metadata": {
        "id": "RL8sZoDjA7LE"
      },
      "source": [
        "#I people, J questions\n",
        "\n",
        "model_stevenslaw_code = \"\"\"\n",
        "data {\n",
        "  int<lower=0> I; //Number of people\n",
        "  int<lower=0> J; //Number of questions\n",
        "  matrix<lower=0>[I,J] y; //stimulus intensity\n",
        "  matrix<lower=0>[I,J] d; //sensation magnitude\n",
        "  real U;\n",
        "}\n",
        "parameters{\n",
        "  real<lower=0> psisq; \n",
        "  real<lower=0> k;\n",
        "  real<lower=0> alpha;\n",
        "\n",
        "}\n",
        "transformed parameters{\n",
        "  real<lower=0> psi;\n",
        "  matrix<lower=0>[I,J] nu;\n",
        "  matrix<lower=0>[I,J] mu;\n",
        "  for(i in 1:I)\n",
        "    for(j in 1:J)\n",
        "      nu[i,j] = pow(d[i,j],alpha);\n",
        "  mu = k*nu;\n",
        "  psi = sqrt(psisq);\n",
        "}\n",
        "model{\n",
        "  psisq ~ inv_gamma(1,1);\n",
        "  alpha ~ normal(.5,1);\n",
        "  k ~ normal(10,10);\n",
        "  for(i in 1:I)\n",
        "    for(j in 1:J)\n",
        "      y[i,j] ~ normal(mu[i,j], psi);\n",
        "}\n",
        "\"\"\"\n"
      ],
      "execution_count": null,
      "outputs": []
    },
    {
      "cell_type": "code",
      "metadata": {
        "colab": {
          "base_uri": "https://localhost:8080/"
        },
        "id": "8EFuVIDK86Kj",
        "outputId": "088f4e2e-3a22-4823-c409-2f6d22988a4f"
      },
      "source": [
        "data_model_stl= {\"I\":I, \"J\":J, \"y\":y.values.reshape(I,J), \"d\":theta.values.reshape(I,J), \"U\":0}\n",
        "model_stl = pystan.StanModel(model_code=model_stevenslaw_code)\n",
        "fit_model_stl = model_stl.sampling(data=data_model_stl, chains=4, seed=111)\n",
        "\n"
      ],
      "execution_count": null,
      "outputs": [
        {
          "output_type": "stream",
          "text": [
            "INFO:pystan:COMPILING THE C++ CODE FOR MODEL anon_model_13509a220e1e6eb443dbee731243b0a9 NOW.\n",
            "WARNING:pystan:Maximum (flat) parameter count (1000) exceeded: skipping diagnostic tests for n_eff and Rhat.\n",
            "To run all diagnostics call pystan.check_hmc_diagnostics(fit)\n"
          ],
          "name": "stderr"
        }
      ]
    },
    {
      "cell_type": "code",
      "metadata": {
        "id": "Xlf3TVfuwoZl"
      },
      "source": [
        "#I people, J questions\n",
        "\n",
        "model_stevenslaw_code_hierarchical = \"\"\"\n",
        "data {\n",
        "  int<lower=0> I; //Number of people\n",
        "  int<lower=0> J; //Number of questions\n",
        "  matrix<lower=0>[I,J] y; //stimulus intensity\n",
        "  matrix<lower=0>[I,J] d; //sensation magnitude\n",
        "  real U;\n",
        "}\n",
        "parameters{\n",
        "  real<lower=0> psisq; \n",
        "  real<lower=0> k;\n",
        "  real<lower=0> alpha;\n",
        "  real<lower=0> mu_alpha;\n",
        "  real<lower=0> mu_k;\n",
        "\n",
        "}\n",
        "transformed parameters{\n",
        "  real<lower=0> psi;\n",
        "  matrix<lower=0>[I,J] nu;\n",
        "  matrix<lower=0>[I,J] mu;\n",
        "  for(i in 1:I)\n",
        "    for(j in 1:J)\n",
        "      nu[i,j] = pow(d[i,j],alpha);\n",
        "  mu = k*nu;\n",
        "  psi = sqrt(psisq);\n",
        "}\n",
        "model{\n",
        "  psisq ~ inv_gamma(1,1);\n",
        "  alpha ~ normal(mu_alpha,1);\n",
        "  k ~ normal(mu_k,10);\n",
        "  mu_alpha ~ normal(.5,1);\n",
        "  mu_k ~ normal(10,10);\n",
        "  for(i in 1:I)\n",
        "    for(j in 1:J)\n",
        "      y[i,j] ~ normal(mu[i,j], psi);\n",
        "}\n",
        "\"\"\"\n"
      ],
      "execution_count": null,
      "outputs": []
    },
    {
      "cell_type": "code",
      "metadata": {
        "colab": {
          "base_uri": "https://localhost:8080/"
        },
        "id": "4NyW1DnixB4H",
        "outputId": "2b83cc42-be31-466f-985b-96e1b286185d"
      },
      "source": [
        "data_model_stl= {\"I\":I, \"J\":J, \"y\":y.values.reshape(I,J), \"d\":theta.values.reshape(I,J), \"U\":0}\n",
        "model_stl = pystan.StanModel(model_code=model_stevenslaw_code_hierarchical)\n",
        "fit_model_stl = model_stl.sampling(data=data_model_stl, chains=4, seed=111)\n",
        "\n"
      ],
      "execution_count": null,
      "outputs": [
        {
          "output_type": "stream",
          "text": [
            "INFO:pystan:COMPILING THE C++ CODE FOR MODEL anon_model_504382a078aaa0f39f760cc8b48f7338 NOW.\n",
            "WARNING:pystan:Maximum (flat) parameter count (1000) exceeded: skipping diagnostic tests for n_eff and Rhat.\n",
            "To run all diagnostics call pystan.check_hmc_diagnostics(fit)\n"
          ],
          "name": "stderr"
        }
      ]
    },
    {
      "cell_type": "code",
      "metadata": {
        "id": "CMGVzxZKGMkk"
      },
      "source": [
        "#per person k \n",
        "model_sl1_code = \"\"\"\n",
        "data {\n",
        "  int<lower=0> I; //Number of people\n",
        "  int<lower=0> N; \n",
        "  vector<lower=0>[N] y; //sensation magnitude\n",
        "  real U;\n",
        "}\n",
        "parameters{\n",
        "  real<lower=0> psisq; \n",
        "  real<lower=0> k;\n",
        "  real<lower=0> alpha;\n",
        "  real<lower=0> theta;\n",
        "\n",
        "}\n",
        "transformed parameters{\n",
        "  real<lower=0> psi;\n",
        "  real<lower=0> mu;\n",
        "  real<lower=0> nu;\n",
        "  nu = pow(theta,alpha);\n",
        "  mu= k*nu;\n",
        "  psi = sqrt(psisq);\n",
        "}\n",
        "model{\n",
        "  theta ~ normal(75,25);\n",
        "  psisq ~ inv_gamma(1,1);\n",
        "  alpha ~ normal(.9,.1);\n",
        "  k ~ normal(1.5,.25);\n",
        "  y ~ normal(mu, psi);\n",
        "}\n",
        "\"\"\""
      ],
      "execution_count": null,
      "outputs": []
    },
    {
      "cell_type": "code",
      "metadata": {
        "colab": {
          "base_uri": "https://localhost:8080/"
        },
        "id": "8ZOEHXn5nF9J",
        "outputId": "ba125a49-8ef2-4683-fa52-db454dfca49e"
      },
      "source": [
        "for value in [50,60,70,80,90,100]:\n",
        "  print(y[theta==value].mean())"
      ],
      "execution_count": null,
      "outputs": [
        {
          "output_type": "stream",
          "text": [
            "42.885714285714286\n",
            "50.68888888888889\n",
            "56.73968253968254\n",
            "64.03809523809524\n",
            "70.33174603174604\n",
            "78.55714285714286\n"
          ],
          "name": "stdout"
        }
      ]
    },
    {
      "cell_type": "code",
      "metadata": {
        "colab": {
          "base_uri": "https://localhost:8080/",
          "height": 215
        },
        "id": "VwnI7nUOGtMe",
        "outputId": "4a125f67-f766-4926-9a16-1d1d183aaa93"
      },
      "source": [
        "# .values.reshape(I,10)\n",
        "mean_estimate_theta = []\n",
        "for value in [50,60,70,80,90,100]:\n",
        "  data_model_sl1= {\"I\":I, \"N\":I*10,\"y\":y[theta==value], \"U\":0}\n",
        "  model_sl1 = pystan.StanModel(model_code=model_sl1_code)\n",
        "  fit_model_sl1 = model_sl1.sampling(data=data_model_sl1, chains=4, seed=111)\n",
        "  # mean_estimate = [0]*I\n",
        "  # for i in range(I):\n",
        "    # mean_estimate = ((value)**mean_alpha)*fit_model_sl1[f'k[{i+1}]'].mean()\n",
        "  mean_estimate_theta.append(fit_model_sl1['theta'].mean())\n",
        "  print(f\"theta: {value}, estimate:{np.mean(mean_estimate)}\")\n"
      ],
      "execution_count": null,
      "outputs": [
        {
          "output_type": "stream",
          "text": [
            "INFO:pystan:COMPILING THE C++ CODE FOR MODEL anon_model_bf3b4be72520ffc9f5b0e1338e2131e6 NOW.\n"
          ],
          "name": "stderr"
        },
        {
          "output_type": "error",
          "ename": "NameError",
          "evalue": "ignored",
          "traceback": [
            "\u001b[0;31m---------------------------------------------------------------------------\u001b[0m",
            "\u001b[0;31mNameError\u001b[0m                                 Traceback (most recent call last)",
            "\u001b[0;32m<ipython-input-59-dfa38e4414bc>\u001b[0m in \u001b[0;36m<module>\u001b[0;34m()\u001b[0m\n\u001b[1;32m      9\u001b[0m     \u001b[0;31m# mean_estimate = ((value)**mean_alpha)*fit_model_sl1[f'k[{i+1}]'].mean()\u001b[0m\u001b[0;34m\u001b[0m\u001b[0;34m\u001b[0m\u001b[0;34m\u001b[0m\u001b[0m\n\u001b[1;32m     10\u001b[0m   \u001b[0mmean_estimate_theta\u001b[0m\u001b[0;34m.\u001b[0m\u001b[0mappend\u001b[0m\u001b[0;34m(\u001b[0m\u001b[0mfit_model_sl1\u001b[0m\u001b[0;34m[\u001b[0m\u001b[0;34m'theta'\u001b[0m\u001b[0;34m]\u001b[0m\u001b[0;34m.\u001b[0m\u001b[0mmean\u001b[0m\u001b[0;34m(\u001b[0m\u001b[0;34m)\u001b[0m\u001b[0;34m)\u001b[0m\u001b[0;34m\u001b[0m\u001b[0;34m\u001b[0m\u001b[0m\n\u001b[0;32m---> 11\u001b[0;31m   \u001b[0mprint\u001b[0m\u001b[0;34m(\u001b[0m\u001b[0;34mf\"theta: {value}, estimate:{np.mean(mean_estimate)}\"\u001b[0m\u001b[0;34m)\u001b[0m\u001b[0;34m\u001b[0m\u001b[0;34m\u001b[0m\u001b[0m\n\u001b[0m",
            "\u001b[0;31mNameError\u001b[0m: name 'mean_estimate' is not defined"
          ]
        }
      ]
    },
    {
      "cell_type": "code",
      "metadata": {
        "id": "QtTuP3olZBZK"
      },
      "source": [
        "mean_estimate_theta = []\n",
        "k_estimate = [0]*I\n",
        "for i in range(I):\n",
        "  k_estimate[i] = fit_model_sl1[f'k[{i+1}]'].mean()\n",
        "plt.hist(k_estimate)"
      ],
      "execution_count": null,
      "outputs": []
    },
    {
      "cell_type": "code",
      "metadata": {
        "id": "3yQYJLeUYs5x"
      },
      "source": [
        "plt.scatter(mean_estimate_theta,[50,60,70,80,90,100])\n",
        "plt.xlabel(\"SL1\")\n",
        "plt.ylabel(\"Truth\")\n",
        "plt.xlim(30,120)\n",
        "plt.ylim(30,120)\n",
        "xpoints = ypoints = plt.xlim()\n",
        "plt.plot(xpoints, ypoints, linestyle='--', color='k', lw=2, scalex=False, scaley=False, alpha = .5)\n"
      ],
      "execution_count": null,
      "outputs": []
    },
    {
      "cell_type": "code",
      "metadata": {
        "id": "PlV1SwOIVj2e"
      },
      "source": [
        "#per person k , alpha\n",
        "model_sl2_code = \"\"\"\n",
        "data {\n",
        "  int<lower=0> I; //Number of people\n",
        "  matrix<lower=0>[I,10] y; //sensation magnitude\n",
        "  real U;\n",
        "}\n",
        "parameters{\n",
        "  real<lower=0> psisq; \n",
        "  vector<lower=0>[I] k;\n",
        "  vector<lower=0>[I] alpha;\n",
        "  real<lower=0> theta;\n",
        "\n",
        "}\n",
        "transformed parameters{\n",
        "  real<lower=0> psi;\n",
        "  vector<lower=0>[I] nu;\n",
        "  vector<lower=0>[I] mu;\n",
        "  for(i in 1:I)\n",
        "    nu[i] = pow(theta,alpha[i]);\n",
        "  for(i in 1:I)\n",
        "    mu[i] = k[i]*nu[i];\n",
        "    \n",
        "  psi = sqrt(psisq);\n",
        "}\n",
        "model{\n",
        "  theta ~ normal(75,25);\n",
        "  psisq ~ inv_gamma(1,1);\n",
        "  alpha ~ normal(.9,.1);\n",
        "  k ~ normal(1.5,.25);\n",
        "  for(i in 1:I)\n",
        "    y[i] ~ normal(mu[i], psi);\n",
        "}\n",
        "\"\"\""
      ],
      "execution_count": null,
      "outputs": []
    },
    {
      "cell_type": "code",
      "metadata": {
        "id": "TuZd8vjlVjzQ"
      },
      "source": [
        "mean_estimate_theta_sl2 = []\n",
        "for value in [50,60,70,80,90,100]:\n",
        "  data_model_sl2= {\"I\":I, \"y\":y[theta==value].values.reshape(I,10), \"U\":0}\n",
        "  model_sl2 = pystan.StanModel(model_code=model_sl2_code)\n",
        "  fit_model_sl2 = model_sl2.sampling(data=data_model_sl2, chains=4, seed=111)\n",
        "  mean_estimate = fit_model_sl2['theta'].mean()\n",
        "  mean_estimate_theta_sl2.append(mean_estimate)\n",
        "  print(f\"theta: {value}, estimate:{mean_estimate}\")\n"
      ],
      "execution_count": null,
      "outputs": []
    },
    {
      "cell_type": "code",
      "metadata": {
        "id": "ahsQa0bfVjmT"
      },
      "source": [
        "plt.scatter(mean_estimate_theta_sl2,[50,60,70,80,90,100], label='model: stevens law')\n",
        "plt.scatter(mean_response,[50,60,70,80,90,100], label = 'mean')\n",
        "plt.xlabel('Estimated')\n",
        "plt.ylabel(\"Truth\")\n",
        "plt.xlim(30,110)\n",
        "plt.ylim(30,110)\n",
        "plt.legend()\n",
        "xpoints = ypoints = plt.xlim()\n",
        "plt.plot(xpoints, ypoints, linestyle='--', color='k', lw=2, scalex=False, scaley=False, alpha = .5)\n"
      ],
      "execution_count": null,
      "outputs": []
    },
    {
      "cell_type": "code",
      "metadata": {
        "id": "fGybgBt3cB0n"
      },
      "source": [
        "#per person k , alpha\n",
        "model_sl2_hierarchical_code = \"\"\"\n",
        "data {\n",
        "  int<lower=0> I; //Number of people\n",
        "  matrix<lower=0>[I,10] y; //sensation magnitude\n",
        "  real U;\n",
        "  real L;\n",
        "}\n",
        "parameters{\n",
        "  real<lower=0> psisq; \n",
        "  real<lower=0> mu_alpha; \n",
        "  real<lower=0> mu_k; \n",
        "  vector<lower=0>[I] k;\n",
        "  vector<lower=0>[I] alpha;\n",
        "  real<lower=0> theta;\n",
        "\n",
        "}\n",
        "transformed parameters{\n",
        "  real<lower=0> psi;\n",
        "  vector<lower=0>[I] nu;\n",
        "  vector<lower=0>[I] mu;\n",
        "  for(i in 1:I)\n",
        "    nu[i] = pow(theta,alpha[i]);\n",
        "  for(i in 1:I)\n",
        "    mu[i] = k[i]*nu[i];    \n",
        "  psi = sqrt(psisq);\n",
        "}\n",
        "model{\n",
        "  theta ~ normal(75,25);\n",
        "  psisq ~ inv_gamma(1,1);\n",
        "  alpha ~ normal(mu_alpha,.1);\n",
        "  mu_alpha ~ normal(.9,.2) T[L,U];\n",
        "  k ~ normal(mu_k,.2);\n",
        "  mu_k ~ normal(1.5, .3) T[L,U];\n",
        "  for(i in 1:I)\n",
        "    y[i] ~ normal(mu[i], psi);\n",
        "}\n",
        "\"\"\""
      ],
      "execution_count": null,
      "outputs": []
    },
    {
      "cell_type": "code",
      "metadata": {
        "id": "5wtzazoaco72"
      },
      "source": [
        "mean_estimate_theta_sl2_hierarchical = []\n",
        "for value in [50,60,70,80,90,100]:\n",
        "  data_model_sl2_hierarchical= {\"I\":I, \"y\":y[theta==value].values.reshape(I,10), \"U\":1000, \"L\":0}\n",
        "  model_sl2_hierarchical = pystan.StanModel(model_code=model_sl2_hierarchical_code)\n",
        "  fit_model_sl2_hierarchical = model_sl2_hierarchical.sampling(data=data_model_sl2_hierarchical, chains=4, seed=111)\n",
        "  mean_estimate = fit_model_sl2_hierarchical['theta'].mean()\n",
        "  mean_estimate_theta_sl2_hierarchical.append(mean_estimate)\n",
        "  print(f\"theta: {value}, estimate:{mean_estimate}\")\n"
      ],
      "execution_count": null,
      "outputs": []
    },
    {
      "cell_type": "code",
      "metadata": {
        "id": "Dhzipsk8uCcK"
      },
      "source": [
        "plt.scatter(mean_estimate_theta_sl2_hierarchical,[50,60,70,80,90,100], label='model: SL hierachical')\n",
        "plt.scatter(mean_response,[50,60,70,80,90,100], label = 'mean')\n",
        "plt.xlabel('Estimated')\n",
        "plt.ylabel(\"Truth\")\n",
        "plt.xlim(30,110)\n",
        "plt.ylim(30,110)\n",
        "plt.legend()\n",
        "xpoints = ypoints = plt.xlim()\n",
        "plt.plot(xpoints, ypoints, linestyle='--', color='k', lw=2, scalex=False, scaley=False, alpha = .5)\n"
      ],
      "execution_count": null,
      "outputs": []
    },
    {
      "cell_type": "code",
      "metadata": {
        "id": "v7E7X2IFxki9"
      },
      "source": [
        ""
      ],
      "execution_count": null,
      "outputs": []
    }
  ]
}